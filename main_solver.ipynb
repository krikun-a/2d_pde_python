{
 "cells": [
  {
   "cell_type": "code",
   "execution_count": 3,
   "metadata": {
    "collapsed": false
   },
   "outputs": [],
   "source": [
    "import numpy as np\n",
    "#import solver_2d"
   ]
  },
  {
   "cell_type": "code",
   "execution_count": 4,
   "metadata": {
    "collapsed": true
   },
   "outputs": [],
   "source": [
    "files_EOMs=(\"EOMsI_py.txt\",\"EOMsT_py.txt\",\"EOMsB_py.txt\")\n",
    "files_Coefs=(\"CoefsI_py.txt\",\"CoefsT_py.txt\",\"CoefsB_py.txt\")"
   ]
  },
  {
   "cell_type": "code",
   "execution_count": 5,
   "metadata": {
    "collapsed": false
   },
   "outputs": [
    {
     "ename": "NameError",
     "evalue": "name 'Mathematica_importer' is not defined",
     "output_type": "error",
     "traceback": [
      "\u001b[1;31m---------------------------------------------------------------------------\u001b[0m",
      "\u001b[1;31mNameError\u001b[0m                                 Traceback (most recent call last)",
      "\u001b[1;32m<ipython-input-5-9fa0afc0a510>\u001b[0m in \u001b[0;36m<module>\u001b[1;34m()\u001b[0m\n\u001b[1;32m----> 1\u001b[1;33m \u001b[0mmath_import\u001b[0m\u001b[1;33m=\u001b[0m\u001b[0mMathematica_importer\u001b[0m\u001b[1;33m(\u001b[0m\u001b[0mfiles_EOMs\u001b[0m\u001b[1;33m,\u001b[0m \u001b[0mfiles_Coefs\u001b[0m\u001b[1;33m)\u001b[0m\u001b[1;33m\u001b[0m\u001b[0m\n\u001b[0m",
      "\u001b[1;31mNameError\u001b[0m: name 'Mathematica_importer' is not defined"
     ]
    }
   ],
   "source": [
    "math_import=Mathematica_importer(files_EOMs, files_Coefs)"
   ]
  },
  {
   "cell_type": "code",
   "execution_count": null,
   "metadata": {
    "collapsed": true
   },
   "outputs": [],
   "source": [
    "%%timeit\n",
    "some_phys_vars={'c1':9.9, 'p0':1.2, 'mu1':1., 'mu':2, 'a0':0.3, 'nperiods':1}\n",
    "some_lattice=(10,10)\n",
    "some_gfm=np.random.rand(9,7,some_lattice[0],some_lattice[1])\n",
    "problem=PDE_2d_problem(math_import,some_lattice,some_phys_vars)\n",
    "problem.EOMs(some_gfm);"
   ]
  }
 ],
 "metadata": {
  "kernelspec": {
   "display_name": "Python 3",
   "language": "python",
   "name": "python3"
  },
  "language_info": {
   "codemirror_mode": {
    "name": "ipython",
    "version": 3
   },
   "file_extension": ".py",
   "mimetype": "text/x-python",
   "name": "python",
   "nbconvert_exporter": "python",
   "pygments_lexer": "ipython3",
   "version": "3.4.3"
  }
 },
 "nbformat": 4,
 "nbformat_minor": 0
}
