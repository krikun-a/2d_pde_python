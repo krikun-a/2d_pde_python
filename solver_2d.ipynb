{
 "cells": [
  {
   "cell_type": "code",
   "execution_count": 9,
   "metadata": {
    "collapsed": true
   },
   "outputs": [],
   "source": [
    "class Mathematica_importer:\n",
    "    def __init__(self, files_EOMs, files_Coefs):\n",
    "        try:\n",
    "            np.sin(2)\n",
    "        except NameError:\n",
    "            raise NameError('Looks like NumPy is not imported as np. This is required for this importer to work')\n",
    " \n",
    "        self._func_names={'sqrt':np.sqrt, 'cosh':np.cosh, 'pi':np.pi, 'sinh':np.sinh, 'tanh':np.tanh, 'exp':np.exp, 'cos':np.cos, 'sin':np.sin} \n",
    "        self._sets_of_eoms=[self.import_expressions(file) for file in files_EOMs]\n",
    "        self._sets_of_coefs=[self.import_expressions(file) for file in files_Coefs]\n",
    "    \n",
    "    def import_expressions(self,file):\n",
    "        file_expr=open(file,\"r\")\n",
    "        list_expr=[line.rstrip() for line in file_expr]\n",
    "        file_expr.close()\n",
    "        return list_expr\n",
    "    \n",
    "    def exprs_eoms(self):\n",
    "        return self._sets_of_eoms\n",
    "    \n",
    "    def exprs_coefs(self):\n",
    "        return self._sets_of_coefs\n",
    "    \n",
    "    def renaming_rules(self):\n",
    "        return self._func_names"
   ]
  },
  {
   "cell_type": "code",
   "execution_count": 2,
   "metadata": {
    "collapsed": false
   },
   "outputs": [],
   "source": [
    "class PDE_2d_problem:\n",
    " \n",
    "    def __init__(self,  importer, grid_vars, phys_vars):\n",
    "        # This sets the names of functions used in Mathematica to the known functions in NumPy\n",
    "        self._func_names=importer.renaming_rules()# Load the Pythonized Mathematica expressions for Internal, Top, Bottom equations and Internal, Top, Bottom coefficients of Jacobian\n",
    "        self._eomsI_expr, self._eomsT_expr,  self._eomsB_expr = importer.exprs_eoms()\n",
    "        self._coefsI_expr, self._coefsT_expr, self._coefsB_expr= importer.exprs_coefs()\n",
    "        \n",
    "        self.ne=len(self._eomsI_expr)\n",
    "        \n",
    "        # Set the internal values to the provided grid size and save physical parameters\n",
    "        self.nx, self.ny=grid_vars\n",
    "        self.phys_vars=phys_vars\n",
    "        \n",
    "        #Create grid via built in function\n",
    "        self.gy, self.gx =self.create_grid()\n",
    "        \n",
    "        #Slice the grid for Internal, Top, Bottom calculations\n",
    "        self.sliced_grid=self.slice_grid()\n",
    "          \n",
    "    def create_grid(self):\n",
    "        gy = np.reshape(np.random.rand(self.ny),(1,self.ny))\n",
    "        gx = np.reshape(np.random.rand(self.nx),(self.nx,1))\n",
    "        return(gy,gx)\n",
    "        \n",
    "    \n",
    "    def slice_gfm(self,gfm):\n",
    "        ndif=7\n",
    "        gft=np.reshape(gfm[:,:,:,-1],(self.ne,ndif,self.nx,1))\n",
    "        gfb=np.reshape(gfm[:,:,:,0],(self.ne,ndif,self.nx,1))\n",
    "        gfi=gfm[:,:,:,1:-1]\n",
    "        return(gft,gfi,gfb)\n",
    "    \n",
    "    def slice_grid(self):\n",
    "        gy=self.gy\n",
    "        gx=self.gx\n",
    "        gxi=gx\n",
    "        gxt=gx\n",
    "        gxb=gx\n",
    "        gyi=gy[:,1:-1]\n",
    "        gyt=gy[-1]\n",
    "        gyb=gy[0]\n",
    "        return({'gxb':gxb,'gxi':gxi,'gxt':gxt,'gyb':gyb,'gyi':gyi,'gyt':gyt})\n",
    "    \n",
    "    def EOMs(self,gfm):\n",
    "        # Slice the input for Internal, Top, Bottom calculations\n",
    "        (gft,gfi,gfb)=self.slice_gfm(gfm)\n",
    "        # Include all internal definitions into the local dictionary\n",
    "        locals().update(self.phys_vars)\n",
    "        locals().update(self.sliced_grid)\n",
    "        locals().update(self._func_names)\n",
    "        \n",
    "        # Evaluate the Internal, Top, Bottom expressions using internal definitions\n",
    "        eomsT=np.zeros((self.ne,self.nx,1),dtype=float)\n",
    "        for i, expr in enumerate(self._eomsT_expr):           \n",
    "            eomsT[i]=eval(expr,globals(),locals())\n",
    "        \n",
    "        eomsI=np.zeros((self.ne,self.nx,self.ny-2),dtype=float)\n",
    "        for i, expr in enumerate(self._eomsI_expr):           \n",
    "            eomsI[i]=eval(expr,globals(),locals())\n",
    "            \n",
    "        eomsB=np.zeros((self.ne,self.nx,1),dtype=float)\n",
    "        for i, expr in enumerate(self._eomsB_expr):           \n",
    "            eomsB[i]=eval(expr,globals(),locals())\n",
    "        \n",
    "        # Create the full matrix of equations\n",
    "        eomsM=np.concatenate((eomsB,eomsI,eomsT),axis=2)\n",
    "        \n",
    "        return(eomsM)\n",
    "    "
   ]
  },
  {
   "cell_type": "code",
   "execution_count": null,
   "metadata": {
    "collapsed": true
   },
   "outputs": [],
   "source": []
  },
  {
   "cell_type": "code",
   "execution_count": 11,
   "metadata": {
    "collapsed": true
   },
   "outputs": [],
   "source": [
    "import numpy as np\n",
    "#import solver_2d"
   ]
  },
  {
   "cell_type": "code",
   "execution_count": 14,
   "metadata": {
    "collapsed": false
   },
   "outputs": [],
   "source": [
    "files_EOMs=(\"EOMsI_py.txt\",\"EOMsT_py.txt\",\"EOMsB_py.txt\")\n",
    "files_Coefs=(\"CoefsI_py.txt\",\"CoefsT_py.txt\",\"CoefsB_py.txt\")\n",
    "some_phys_vars={'c1':9.9, 'p0':1.2, 'mu1':1., 'mu':2, 'a0':0.3, 'nperiods':1}\n",
    "some_lattice=(10,10)\n",
    "some_gfm=np.random.rand(9,7,some_lattice[0],some_lattice[1])"
   ]
  },
  {
   "cell_type": "code",
   "execution_count": 15,
   "metadata": {
    "collapsed": false
   },
   "outputs": [],
   "source": [
    "math_import=Mathematica_importer(files_EOMs, files_Coefs)"
   ]
  },
  {
   "cell_type": "code",
   "execution_count": 16,
   "metadata": {
    "collapsed": true
   },
   "outputs": [],
   "source": [
    "problem=PDE_2d_problem(math_import,some_lattice,some_phys_vars)"
   ]
  },
  {
   "cell_type": "code",
   "execution_count": 44,
   "metadata": {
    "collapsed": false
   },
   "outputs": [
    {
     "name": "stdout",
     "output_type": "stream",
     "text": [
      "10 loops, best of 3: 50.5 ms per loop\n"
     ]
    }
   ],
   "source": [
    "%%timeit\n",
    "\n",
    "\n",
    "\n",
    "problem.EOMs(some_gfm);"
   ]
  },
  {
   "cell_type": "code",
   "execution_count": null,
   "metadata": {
    "collapsed": true
   },
   "outputs": [],
   "source": []
  }
 ],
 "metadata": {
  "kernelspec": {
   "display_name": "Python 3",
   "language": "python",
   "name": "python3"
  },
  "language_info": {
   "codemirror_mode": {
    "name": "ipython",
    "version": 3
   },
   "file_extension": ".py",
   "mimetype": "text/x-python",
   "name": "python",
   "nbconvert_exporter": "python",
   "pygments_lexer": "ipython3",
   "version": "3.4.3"
  }
 },
 "nbformat": 4,
 "nbformat_minor": 0
}
