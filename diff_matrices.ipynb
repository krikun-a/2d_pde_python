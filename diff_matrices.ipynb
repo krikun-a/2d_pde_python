{
 "cells": [
  {
   "cell_type": "code",
   "execution_count": 1,
   "metadata": {
    "collapsed": true
   },
   "outputs": [],
   "source": [
    "def check_tuple(var, typ):\n",
    "    if type(var)!=tuple and type(var)!=typ:\n",
    "        return False \n",
    "    elif type(var)==tuple:\n",
    "        if any(type(s)!=typ for s in var):\n",
    "            return False\n",
    "    return True"
   ]
  },
  {
   "cell_type": "code",
   "execution_count": 158,
   "metadata": {
    "collapsed": false
   },
   "outputs": [],
   "source": [
    "def diff_matrix_1d(grid_size, difference_order=4, periodic_boundary=False):\n",
    "    \"\"\"\n",
    "    Return a differentiation matrices associated with derivative operators up to 2nd order on the line\n",
    "    The derivative is calculated with respect to the equispaced grid\n",
    "    The differentiation matrices are sparsed.\n",
    "    \n",
    "    Parameters \n",
    "    ----------\n",
    "    grid_size : int nx\n",
    "    difference_order : int default=4\n",
    "        Controls order of the approximation of finite difference, sets the size of the stencil\n",
    "        The endpoint derivatives are calculated with larger stencil for better accuracy\n",
    "    peryodic_boundary: boolean, default=False\n",
    "        Sets whether periodic boundary conditions are imposed\n",
    "    \n",
    "    Returns\n",
    "    ----------\n",
    "    List of differentiation matrices of size nx X nx of rising order including identity. \n",
    "    I.e. [1, dx, d2x]\n",
    "    \n",
    "    References\n",
    "    ---------------\n",
    "    Uses sympy.calculus.finite_diff.finite_diff_weights\n",
    "    \"\"\"\n",
    "    #----------------Check input------------------ \n",
    "    if any(type(inp)!=int for inp in (grid_size, difference_order)):\n",
    "        raise ValueError(\"grid_size and difference_order must be integers\")\n",
    "    if type(periodic_boundary)!=bool:\n",
    "        raise ValueError(\"periodic_boundary must be boolean\")\n",
    "\n",
    "    if difference_order+2 > grid_size:\n",
    "        raise ValueError(\"Stencil is larger then the whole grid\")\n",
    "    \n",
    "    #-------------Body------------------    \n",
    "    \n",
    "    h0=int(difference_order/2) #This is a number of neighbours\n",
    "    \n",
    "    #calculate a set of derivatives with various offset and single out the central one\n",
    "    #the endpoint derivatives are calculated with larger stencil for better accuracy\n",
    "    weights_all=[]\n",
    "    for offset in range(-h0,h0+1,1):\n",
    "        if offset==0:\n",
    "            stencil=[S(i) for i in range(-h0,h0+1)]\n",
    "            weights_all.append(np.array(finite_diff_weights(2, stencil, offset),dtype=float)[:,-1])\n",
    "        if offset<0:\n",
    "            stencil=[S(i) for i in range(2*h0+2)]\n",
    "            weights_all.append(np.array(finite_diff_weights(2, stencil, h0+offset),dtype=float)[:,-1])\n",
    "        if offset>0:\n",
    "            stencil=[S(i) for i in range(2*h0+2)]\n",
    "            weights_all.append(np.array(finite_diff_weights(2, stencil, h0+1+offset),dtype=float)[:,-1])\n",
    "    \n",
    "    weights_center=weights_all[h0]\n",
    "    \n",
    "    \n",
    "    #write a diff matrix of order 0 (identity) to the list\n",
    "    diff_mats=[scipy.sparse.identity(grid_size)]\n",
    "    \n",
    "    #create the matrices for 1st and 2nd derivatives\n",
    "    #non-periodic boundary\n",
    "    if periodic_boundary==False:\n",
    "        for deriv in range(1,3):\n",
    "            #away from the boundaries the central derivatives fill the diagonal\n",
    "            weights=weights_center[deriv]\n",
    "            diags=np.broadcast_to(weights,(grid_size,2*h0+1)).transpose()\n",
    "            in_mat=scipy.sparse.dia_matrix((diags,range(2*h0+1)),shape=(grid_size-(2*h0),grid_size)) \n",
    "\n",
    "\n",
    "            #near the bottom (beginnig of the grid) use one-sided derivatives in the left part of matrix, fill with zeros to the right\n",
    "            bottom_mat_right=scipy.sparse.dia_matrix((h0,grid_size-(2*h0+2))) \n",
    "            bottom_mat_left=np.zeros((h0,2*h0+2))\n",
    "            for dist in range(h0):\n",
    "                bottom_mat_left[dist] = weights_all[dist][deriv]\n",
    "            bottom_mat=scipy.sparse.hstack([bottom_mat_left,bottom_mat_right])\n",
    "\n",
    "            #same near top, fill with zeros to the left\n",
    "            top_mat_left=scipy.sparse.dia_matrix((h0,grid_size-(2*h0+2))) \n",
    "            top_mat_right=np.zeros((h0,2*h0+2))\n",
    "            for dist in range(-h0,0):\n",
    "                top_mat_right[dist] = weights_all[2*h0+1+dist][deriv]\n",
    "            top_mat=scipy.sparse.hstack([top_mat_left,top_mat_right])\n",
    "\n",
    "            full_mat=scipy.sparse.vstack([bottom_mat,in_mat,top_mat])\n",
    "\n",
    "            diff_mats.append(full_mat)\n",
    "    \n",
    "    #Periodic boundary        \n",
    "    if periodic_boundary==True:\n",
    "        for deriv in range(1,3):\n",
    "            #the central derivatives fill the diagonal plus show up in the corners\n",
    "            weights=weights_center[deriv]\n",
    "            diags=np.broadcast_to(weights,(grid_size,2*h0+1)).transpose()\n",
    "            diags=np.vstack((diags[h0+1:],diags,diags[:h0]))\n",
    "            offsets=list(range(-grid_size+1,h0+1-grid_size))+list(range(-h0,h0+1))+list(range(-h0+grid_size,grid_size))\n",
    "            full_mat=scipy.sparse.dia_matrix((diags,offsets),shape=(grid_size,grid_size)) \n",
    "\n",
    "            diff_mats.append(full_mat)\n",
    "        \n",
    "    return diff_mats"
   ]
  },
  {
   "cell_type": "code",
   "execution_count": 164,
   "metadata": {
    "collapsed": false
   },
   "outputs": [],
   "source": [
    "dw=diff_matrix_1d(8,difference_order=6,periodic_boundary=False)"
   ]
  },
  {
   "cell_type": "code",
   "execution_count": 167,
   "metadata": {
    "collapsed": false
   },
   "outputs": [
    {
     "data": {
      "text/plain": [
       "array([[ -2.59285714e+00,   7.00000000e+00,  -1.05000000e+01,\n",
       "          1.16666667e+01,  -8.75000000e+00,   4.20000000e+00,\n",
       "         -1.16666667e+00,   1.42857143e-01],\n",
       "       [ -1.42857143e-01,  -1.45000000e+00,   3.00000000e+00,\n",
       "         -2.50000000e+00,   1.66666667e+00,  -7.50000000e-01,\n",
       "          2.00000000e-01,  -2.38095238e-02],\n",
       "       [  2.38095238e-02,  -3.33333333e-01,  -7.83333333e-01,\n",
       "          1.66666667e+00,  -8.33333333e-01,   3.33333333e-01,\n",
       "         -8.33333333e-02,   9.52380952e-03],\n",
       "       [ -1.66666667e-02,   1.50000000e-01,  -7.50000000e-01,\n",
       "          0.00000000e+00,   7.50000000e-01,  -1.50000000e-01,\n",
       "          1.66666667e-02,   0.00000000e+00],\n",
       "       [  0.00000000e+00,  -1.66666667e-02,   1.50000000e-01,\n",
       "         -7.50000000e-01,   0.00000000e+00,   7.50000000e-01,\n",
       "         -1.50000000e-01,   1.66666667e-02],\n",
       "       [ -9.52380952e-03,   8.33333333e-02,  -3.33333333e-01,\n",
       "          8.33333333e-01,  -1.66666667e+00,   7.83333333e-01,\n",
       "          3.33333333e-01,  -2.38095238e-02],\n",
       "       [  2.38095238e-02,  -2.00000000e-01,   7.50000000e-01,\n",
       "         -1.66666667e+00,   2.50000000e+00,  -3.00000000e+00,\n",
       "          1.45000000e+00,   1.42857143e-01],\n",
       "       [ -1.42857143e-01,   1.16666667e+00,  -4.20000000e+00,\n",
       "          8.75000000e+00,  -1.16666667e+01,   1.05000000e+01,\n",
       "         -7.00000000e+00,   2.59285714e+00]])"
      ]
     },
     "execution_count": 167,
     "metadata": {},
     "output_type": "execute_result"
    }
   ],
   "source": [
    "dw[1].toarray()"
   ]
  },
  {
   "cell_type": "code",
   "execution_count": 17,
   "metadata": {
    "collapsed": false
   },
   "outputs": [],
   "source": [
    "def diff_matrix(grid_size, difference_order=4, periodic_boundary=False):\n",
    "    \"\"\"\n",
    "    Return a differentiation matrices associated with derivative operators up to 2nd order.\n",
    "    The derivative is calculated with respect to the equispaced multidimensional grid\n",
    "    The differentiation matrices are sparsed, obtained by Kronecker product. \n",
    "    \n",
    "    Parameters \n",
    "    ----------\n",
    "    ! All tuples must be the same lenght equal to the number of grid dimensions.\n",
    "    \n",
    "    grid_size : tuple of ints (nx,ny,...)\n",
    "    difference_order : tuple of ints (int,int,...), default=(5,5)\n",
    "        Controls order of the approximation of finite difference for every axis.\n",
    "    periodic_boundary: tuple of booleans, default=(False,False)\n",
    "        Sets whether periodic boundary conditions are imposed in given direction\n",
    "    \n",
    "    Returns\n",
    "    ----------\n",
    "    List of differentiation matrices of size (nx*ny*...)x(nx*ny*...) of rising order including identity. \n",
    "    I.e. in 2 dimensions\n",
    "??    (1, dx, dy, d2x, d2y, dxdy)\n",
    "    \n",
    "    References\n",
    "    ---------------\n",
    "    Uses sympy.calculus.finite_diff.finite_diff_weights\n",
    "    and scipy.sparse.kron\n",
    "    \"\"\"\n",
    "    #-----------Check input--------------\n",
    "    #-----------------------------------\n",
    "    def to_tuple(var):\n",
    "        if type(var)!=tuple:\n",
    "            return tuple([var]*len(grid_size))\n",
    "        else:\n",
    "            return var\n",
    "            \n",
    "    if not check_tuple(difference_order,int):\n",
    "        raise ValueError(\"difference_order must be integer or tuple of integers\")\n",
    "    if not check_tuple(periodic_boundary,bool):\n",
    "        raise ValueError(\"periodic_boundary must be integer or tuple of integers\")\n",
    " \n",
    "    (difference_order, periodic_boundary)=map(to_tuple, (difference_order, periodic_boundary))\n",
    "    \n",
    "    dims=tuple(len(inp) for inp in [grid_size,stencil_size,  periodic_boundary])\n",
    "    if any(s1!=s2 for s1, s2 in zip(dims,dims[1:])):\n",
    "        raise ValueError(\"Dimensions of grid, order and periodicity flags are not equal.\")\n",
    "\n",
    "    \n",
    "    #-------Body-----------------------\n",
    "    #-----------------------------------\n",
    "    \n",
    "    from sympy.calculus.finite_diff import finite_diff_weights\n",
    "    from sympy import S\n",
    "    \n",
    "    h0=int(difference_order/2) #This is a number of neighbours\n",
    "    stencil=[S(i) for i in range(-h0,h0+1,1)]\n",
    "    res = finite_diff_weights(2, stencil, -3)\n",
    "    res[0][-1]\n",
    "    \n",
    "    return res"
   ]
  },
  {
   "cell_type": "code",
   "execution_count": 16,
   "metadata": {
    "collapsed": false
   },
   "outputs": [
    {
     "ename": "NameError",
     "evalue": "name 'diff_matrix' is not defined",
     "output_type": "error",
     "traceback": [
      "\u001b[1;31m---------------------------------------------------------------------------\u001b[0m",
      "\u001b[1;31mNameError\u001b[0m                                 Traceback (most recent call last)",
      "\u001b[1;32m<ipython-input-16-876afd6d491d>\u001b[0m in \u001b[0;36m<module>\u001b[1;34m()\u001b[0m\n\u001b[1;32m----> 1\u001b[1;33m \u001b[0mdiff_matrix\u001b[0m\u001b[1;33m(\u001b[0m\u001b[1;33m(\u001b[0m\u001b[1;36m3\u001b[0m\u001b[1;33m,\u001b[0m\u001b[1;36m4\u001b[0m\u001b[1;33m)\u001b[0m\u001b[1;33m)\u001b[0m\u001b[1;33m\u001b[0m\u001b[0m\n\u001b[0m",
      "\u001b[1;31mNameError\u001b[0m: name 'diff_matrix' is not defined"
     ]
    }
   ],
   "source": [
    "diff_matrix((3,4))"
   ]
  },
  {
   "cell_type": "code",
   "execution_count": 64,
   "metadata": {
    "collapsed": false
   },
   "outputs": [
    {
     "data": {
      "text/plain": [
       "[-2, -1, 0, 1, 2]"
      ]
     },
     "execution_count": 64,
     "metadata": {},
     "output_type": "execute_result"
    }
   ],
   "source": [
    "stencil=[S(i) for i in range(-2,3,1)]\n",
    "stencil"
   ]
  },
  {
   "cell_type": "code",
   "execution_count": 65,
   "metadata": {
    "collapsed": false
   },
   "outputs": [
    {
     "data": {
      "text/plain": [
       "[1, 0, 0, 0, 0, 0, 0]"
      ]
     },
     "execution_count": 65,
     "metadata": {},
     "output_type": "execute_result"
    }
   ],
   "source": [
    "h0=3\n",
    "stencil=[S(i) for i in range(-h0,h0+1,1)]\n",
    "res = finite_diff_weights(2, stencil, -3)\n",
    "res[0][-1]"
   ]
  },
  {
   "cell_type": "code",
   "execution_count": 5,
   "metadata": {
    "collapsed": false
   },
   "outputs": [],
   "source": [
    "from sympy.calculus.finite_diff import finite_diff_weights\n",
    "from sympy import S\n",
    "import numpy as np"
   ]
  },
  {
   "cell_type": "code",
   "execution_count": 6,
   "metadata": {
    "collapsed": true
   },
   "outputs": [],
   "source": [
    "import scipy.sparse"
   ]
  },
  {
   "cell_type": "code",
   "execution_count": null,
   "metadata": {
    "collapsed": true
   },
   "outputs": [],
   "source": []
  }
 ],
 "metadata": {
  "kernelspec": {
   "display_name": "Python 3",
   "language": "python",
   "name": "python3"
  },
  "language_info": {
   "codemirror_mode": {
    "name": "ipython",
    "version": 3
   },
   "file_extension": ".py",
   "mimetype": "text/x-python",
   "name": "python",
   "nbconvert_exporter": "python",
   "pygments_lexer": "ipython3",
   "version": "3.4.3"
  }
 },
 "nbformat": 4,
 "nbformat_minor": 0
}
