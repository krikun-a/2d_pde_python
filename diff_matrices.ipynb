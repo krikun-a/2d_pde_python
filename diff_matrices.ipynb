{
 "cells": [
  {
   "cell_type": "code",
   "execution_count": null,
   "metadata": {
    "collapsed": true
   },
   "outputs": [],
   "source": [
    "def diff_weights(Np, ndiv=1,pos=0):\n",
    "    \"\"\"\n",
    "    Return weights for an Np-point derivative. \n",
    "    Very similar to scipy.central_diff_weights, but can also return noncentral, one-sided derivatives\n",
    "    Assuming Np=2*h0 + 1:\n",
    "    The position of the function value in the Np-point stencil is given by pos, where\n",
    "    pos= -h0 : left-most point\n",
    "    pos= h0: right-most point\n",
    "    pos=0: middle\n",
    "    Assumes equally-spaced function points.\n",
    "    If weights are in the vector w, then\n",
    "    derivative is w[0] * f(x-pos*dx-h0*dx) + ... + w[-1] * f(x-pos*dx+h0*dx)\n",
    "    Parameters\n",
    "    ----------\n",
    "    Np : int, odd: Np=2*h0+1\n",
    "        Number of points for the derivative.\n",
    "    ndiv : int, optional\n",
    "        Order of a derivative.  Default is 1.\n",
    "    pos: int, abs(pos)<= h0    \n",
    "    \n",
    "    Notes\n",
    "    -----\n",
    "    Can be inaccurate for large number of points.\n",
    "    \"\"\"\n",
    "    "
   ]
  }
 ],
 "metadata": {
  "kernelspec": {
   "display_name": "Python 3",
   "language": "python",
   "name": "python3"
  },
  "language_info": {
   "codemirror_mode": {
    "name": "ipython",
    "version": 3
   },
   "file_extension": ".py",
   "mimetype": "text/x-python",
   "name": "python",
   "nbconvert_exporter": "python",
   "pygments_lexer": "ipython3",
   "version": "3.4.3"
  }
 },
 "nbformat": 4,
 "nbformat_minor": 0
}
