{
 "cells": [
  {
   "cell_type": "code",
   "execution_count": 250,
   "metadata": {
    "collapsed": false
   },
   "outputs": [],
   "source": [
    "from sympy.calculus.finite_diff import finite_diff_weights\n",
    "from sympy import S\n",
    "import numpy as np\n",
    "from scipy import sparse"
   ]
  },
  {
   "cell_type": "code",
   "execution_count": 1,
   "metadata": {
    "collapsed": true
   },
   "outputs": [],
   "source": [
    "def check_tuple(var, typ):\n",
    "    if type(var)!=tuple and type(var)!=typ:\n",
    "        return False \n",
    "    elif type(var)==tuple:\n",
    "        if any(type(s)!=typ for s in var):\n",
    "            return False\n",
    "    return True"
   ]
  },
  {
   "cell_type": "code",
   "execution_count": 251,
   "metadata": {
    "collapsed": false
   },
   "outputs": [],
   "source": [
    "def diff_matrix_1d(grid_size, difference_order=4, periodic_boundary=False):\n",
    "    \"\"\"\n",
    "    Return a differentiation matrices associated with derivative operators up to 2nd order on the line\n",
    "    The derivative is calculated with respect to the equispaced grid\n",
    "    The differentiation matrices are sparsed.\n",
    "    \n",
    "    Parameters \n",
    "    ----------\n",
    "    grid_size : int nx\n",
    "    difference_order : int default=4\n",
    "        Controls order of the approximation of finite difference, sets the size of the stencil\n",
    "        The endpoint derivatives are calculated with larger stencil for better accuracy\n",
    "    peryodic_boundary: boolean, default=False\n",
    "        Sets whether periodic boundary conditions are imposed\n",
    "    \n",
    "    Returns\n",
    "    ----------\n",
    "    List of differentiation matrices of size nx X nx of rising order including identity. \n",
    "    I.e. [1, dx, d2x]\n",
    "    \n",
    "    References\n",
    "    ---------------\n",
    "    Uses sympy.calculus.finite_diff.finite_diff_weights\n",
    "    \"\"\"\n",
    "    #----------------Check input------------------ \n",
    "    if any(type(inp)!=int for inp in (grid_size, difference_order)):\n",
    "        raise ValueError(\"grid_size and difference_order must be integers\")\n",
    "    if type(periodic_boundary)!=bool:\n",
    "        raise ValueError(\"periodic_boundary must be boolean\")\n",
    "\n",
    "    if difference_order+2 > grid_size:\n",
    "        raise ValueError(\"Stencil is larger then the whole grid\")\n",
    "    \n",
    "    #-------------Body------------------    \n",
    "    \n",
    "    h0=int(difference_order/2) #This is a number of neighbours\n",
    "    \n",
    "    #calculate a set of derivatives with various offset and single out the central one\n",
    "    #the endpoint derivatives are calculated with larger stencil for better accuracy\n",
    "    weights_all=[]\n",
    "    for offset in range(-h0,h0+1,1):\n",
    "        if offset==0:\n",
    "            stencil=[S(i) for i in range(-h0,h0+1)]\n",
    "            weights_all.append(np.array(finite_diff_weights(2, stencil, offset),dtype=float)[:,-1])\n",
    "        if offset<0:\n",
    "            stencil=[S(i) for i in range(2*h0+2)]\n",
    "            weights_all.append(np.array(finite_diff_weights(2, stencil, h0+offset),dtype=float)[:,-1])\n",
    "        if offset>0:\n",
    "            stencil=[S(i) for i in range(2*h0+2)]\n",
    "            weights_all.append(np.array(finite_diff_weights(2, stencil, h0+1+offset),dtype=float)[:,-1])\n",
    "    \n",
    "    weights_center=weights_all[h0]\n",
    "    \n",
    "    \n",
    "    #write a diff matrix of order 0 (identity) to the list\n",
    "    diff_mats=[scipy.sparse.identity(grid_size)]\n",
    "    \n",
    "    #create the matrices for 1st and 2nd derivatives\n",
    "    #non-periodic boundary\n",
    "    if periodic_boundary==False:\n",
    "        for deriv in range(1,3):\n",
    "            #away from the boundaries the central derivatives fill the diagonal\n",
    "            weights=weights_center[deriv]\n",
    "            diags=np.broadcast_to(weights,(grid_size,2*h0+1)).transpose()\n",
    "            in_mat=sparse.dia_matrix((diags,range(2*h0+1)),shape=(grid_size-(2*h0),grid_size)) \n",
    "\n",
    "\n",
    "            #near the bottom (beginnig of the grid) use one-sided derivatives in the left part of matrix, fill with zeros to the right\n",
    "            bottom_mat_right=sparse.dia_matrix((h0,grid_size-(2*h0+2))) \n",
    "            bottom_mat_left=np.zeros((h0,2*h0+2))\n",
    "            for dist in range(h0):\n",
    "                bottom_mat_left[dist] = weights_all[dist][deriv]\n",
    "            bottom_mat=sparse.hstack([bottom_mat_left,bottom_mat_right])\n",
    "\n",
    "            #same near top, fill with zeros to the left\n",
    "            top_mat_left=scipy.sparse.dia_matrix((h0,grid_size-(2*h0+2))) \n",
    "            top_mat_right=np.zeros((h0,2*h0+2))\n",
    "            for dist in range(-h0,0):\n",
    "                top_mat_right[dist] = weights_all[2*h0+1+dist][deriv]\n",
    "            top_mat=sparse.hstack([top_mat_left,top_mat_right])\n",
    "\n",
    "            full_mat=sparse.vstack([bottom_mat,in_mat,top_mat])\n",
    "\n",
    "            diff_mats.append(full_mat)\n",
    "    \n",
    "    #Periodic boundary        \n",
    "    if periodic_boundary==True:\n",
    "        for deriv in range(1,3):\n",
    "            #the central derivatives fill the diagonal plus show up in the corners\n",
    "            weights=weights_center[deriv]\n",
    "            diags=np.broadcast_to(weights,(grid_size,2*h0+1)).transpose()\n",
    "            diags=np.vstack((diags[h0+1:],diags,diags[:h0]))\n",
    "            offsets=list(range(-grid_size+1,h0+1-grid_size))+list(range(-h0,h0+1))+list(range(-h0+grid_size,grid_size))\n",
    "            full_mat=sparse.dia_matrix((diags,offsets),shape=(grid_size,grid_size)) \n",
    "\n",
    "            diff_mats.append(full_mat)\n",
    "        \n",
    "    return diff_mats"
   ]
  },
  {
   "cell_type": "code",
   "execution_count": 252,
   "metadata": {
    "collapsed": false
   },
   "outputs": [],
   "source": [
    "dw=diff_matrix_1d(7,difference_order=4,periodic_boundary=False)"
   ]
  },
  {
   "cell_type": "code",
   "execution_count": 253,
   "metadata": {
    "collapsed": false
   },
   "outputs": [
    {
     "data": {
      "text/plain": [
       "array([[  3.75      , -12.83333333,  17.83333333, -13.        ,\n",
       "          5.08333333,  -0.83333333,   0.        ],\n",
       "       [  0.83333333,  -1.25      ,  -0.33333333,   1.16666667,\n",
       "         -0.5       ,   0.08333333,   0.        ],\n",
       "       [ -0.08333333,   1.33333333,  -2.5       ,   1.33333333,\n",
       "         -0.08333333,   0.        ,   0.        ],\n",
       "       [  0.        ,  -0.08333333,   1.33333333,  -2.5       ,\n",
       "          1.33333333,  -0.08333333,   0.        ],\n",
       "       [  0.        ,   0.        ,  -0.08333333,   1.33333333,\n",
       "         -2.5       ,   1.33333333,  -0.08333333],\n",
       "       [  0.        ,   0.08333333,  -0.5       ,   1.16666667,\n",
       "         -0.33333333,  -1.25      ,   0.83333333],\n",
       "       [  0.        ,  -0.83333333,   5.08333333, -13.        ,\n",
       "         17.83333333, -12.83333333,   3.75      ]])"
      ]
     },
     "execution_count": 253,
     "metadata": {},
     "output_type": "execute_result"
    }
   ],
   "source": [
    "dw[2].toarray()"
   ]
  },
  {
   "cell_type": "code",
   "execution_count": 271,
   "metadata": {
    "collapsed": false
   },
   "outputs": [],
   "source": [
    "def diff_matrix(grid_sizes, difference_orders=4, periodic_boundaries=False):\n",
    "    \"\"\"\n",
    "    Return a differentiation matrices associated with derivative operators up to 2nd order in 1,2 or 3 dimensions.\n",
    "    The derivative is calculated with respect to the equispaced multidimensional grid\n",
    "    The differentiation matrices are sparsed ('csr'), obtained by Kronecker product. \n",
    "    \n",
    "    Parameters \n",
    "    ----------\n",
    "    ! All tuples must be the same lenght equal to the number of grid dimensions.\n",
    "    \n",
    "    grid_size : tuple of ints (nx,ny,...)\n",
    "    difference_order : tuple of ints (int,int,...), default=(5,5)\n",
    "        Controls order of the approximation of finite difference for every axis.\n",
    "    periodic_boundary: tuple of booleans, default=(False,False)\n",
    "        Sets whether periodic boundary conditions are imposed in given direction\n",
    "    \n",
    "    Returns\n",
    "    ----------\n",
    "    List of differentiation matrices of size (nx*ny*...)x(nx*ny*...) of rising order including identity. \n",
    "    I.e.\n",
    "    in 1 dimensions\n",
    "        (1,dx,dy)\n",
    "    in 2 dimensions\n",
    "        (1, dx, dy, d2x, d2y, dxdy)\n",
    "    in 3 dimensions\n",
    "        (1, dx, dy, dz, d2x, d2y, d2z, dxdy, dxdz, dydz)\n",
    "    \n",
    "    References\n",
    "    ---------------\n",
    "    Uses scipy.sparse.kron\n",
    "    \"\"\"\n",
    "    #-----------Check input--------------\n",
    "    #-----------------------------------\n",
    "    def to_tuple(var):\n",
    "        if type(var)!=tuple:\n",
    "            return tuple([var]*len(grid_sizes))\n",
    "        else:\n",
    "            return var\n",
    "    if not isinstance(grid_sizes,tuple): \n",
    "        raise ValueError(\"grid_sizes must be tuple of integers (in case of 1 dimension it can be (size,))\")\n",
    "    if not check_tuple(difference_orders,int):\n",
    "        raise ValueError(\"difference_order must be integer or tuple of integers\")\n",
    "    if not check_tuple(periodic_boundaries,bool):\n",
    "        raise ValueError(\"periodic_boundary must be integer or tuple of integers\")\n",
    " \n",
    "    (difference_orders, periodic_boundaries)=map(to_tuple, (difference_orders, periodic_boundaries))\n",
    "    \n",
    "    dims=tuple(len(inp) for inp in [grid_sizes, difference_orders, periodic_boundaries])\n",
    "    if any(s1!=s2 for s1, s2 in zip(dims,dims[1:])):\n",
    "        raise ValueError(\"Dimensions of grid, order and periodicity flags must be equal.\")\n",
    "    if dims[0]>3:\n",
    "        raise ValueError(\"Only 1,2 or 3 dimensional grids are currently supported\")\n",
    "\n",
    "    \n",
    "    #-------Body-----------------------\n",
    "    #-----------------------------------\n",
    "    \n",
    "    axes_diff_mats=[]\n",
    "    for i, size in enumerate(grid_sizes):\n",
    "        mat=diff_matrix_1d(grid_sizes[i], difference_orders[i], periodic_boundaries[i])\n",
    "        axes_diff_mats.append(mat)\n",
    "    \n",
    "    #define in what sequence the diff matrices are returned\n",
    "    if dims[0]==1:\n",
    "        derivative_sequence=((0,),(1,),(2,))\n",
    "    elif dims[0]==2:\n",
    "        derivative_sequence=((0,0),(1,0),(0,1),(2,0),(0,2),(1,1))\n",
    "    elif dims[0]==3:\n",
    "        derivative_sequence=((0,0,0),(1,0,0),(0,1,0),(0,0,1),(2,0,0),(0,2,0),(0,0,2),(1,1,0),(1,0,1),(0,1,1))\n",
    "\n",
    "    #produce kronecker products\n",
    "    diff_mats=[]\n",
    "    for d, deriv in enumerate(derivative_sequence):\n",
    "        mat=axes_diff_mats[0][deriv[0]]\n",
    "        for axis in range(1,dims[0]):\n",
    "            mat_axis=axes_diff_mats[axis][deriv[axis]]\n",
    "            mat=sparse.kron(mat,mat_axis,\"csr\")\n",
    "        diff_mats.append(mat)\n",
    "    \n",
    "    return diff_mats"
   ]
  },
  {
   "cell_type": "code",
   "execution_count": 335,
   "metadata": {
    "collapsed": false
   },
   "outputs": [],
   "source": [
    "t1=diff_matrix((6,6),4,False)"
   ]
  },
  {
   "cell_type": "code",
   "execution_count": 336,
   "metadata": {
    "collapsed": false
   },
   "outputs": [
    {
     "data": {
      "text/plain": [
       "(36, 36)"
      ]
     },
     "execution_count": 336,
     "metadata": {},
     "output_type": "execute_result"
    }
   ],
   "source": [
    "t1[1].shape"
   ]
  },
  {
   "cell_type": "code",
   "execution_count": 321,
   "metadata": {
    "collapsed": true
   },
   "outputs": [],
   "source": [
    "import matplotlib.pyplot as plt\n",
    "%matplotlib inline"
   ]
  },
  {
   "cell_type": "code",
   "execution_count": 305,
   "metadata": {
    "collapsed": false
   },
   "outputs": [],
   "source": [
    "t1[1].toarray();"
   ]
  },
  {
   "cell_type": "code",
   "execution_count": 324,
   "metadata": {
    "collapsed": false
   },
   "outputs": [
    {
     "data": {
      "text/plain": [
       "<matplotlib.collections.PolyCollection at 0x7f245b650cf8>"
      ]
     },
     "execution_count": 324,
     "metadata": {},
     "output_type": "execute_result"
    },
    {
     "name": "stderr",
     "output_type": "stream",
     "text": [
      "/usr/lib/python3/dist-packages/matplotlib/collections.py:549: FutureWarning: elementwise comparison failed; returning scalar instead, but in the future will perform elementwise comparison\n",
      "  if self._edgecolors == 'face':\n"
     ]
    },
    {
     "data": {
      "image/png": "[encoded data removed]",
      "text/plain": [
       "<matplotlib.figure.Figure at 0x7f245b5d6128>"
      ]
     },
     "metadata": {},
     "output_type": "display_data"
    }
   ],
   "source": [
    "plt.pcolor(abs(t1[7].toarray()))"
   ]
  },
  {
   "cell_type": "code",
   "execution_count": 325,
   "metadata": {
    "collapsed": true
   },
   "outputs": [],
   "source": [
    "from sys import getsizeof"
   ]
  },
  {
   "cell_type": "code",
   "execution_count": 337,
   "metadata": {
    "collapsed": false
   },
   "outputs": [
    {
     "data": {
      "text/plain": [
       "128"
      ]
     },
     "execution_count": 337,
     "metadata": {},
     "output_type": "execute_result"
    }
   ],
   "source": [
    "getsizeof(t1)"
   ]
  },
  {
   "cell_type": "code",
   "execution_count": null,
   "metadata": {
    "collapsed": true
   },
   "outputs": [],
   "source": []
  }
 ],
 "metadata": {
  "kernelspec": {
   "display_name": "Python 3",
   "language": "python",
   "name": "python3"
  },
  "language_info": {
   "codemirror_mode": {
    "name": "ipython",
    "version": 3
   },
   "file_extension": ".py",
   "mimetype": "text/x-python",
   "name": "python",
   "nbconvert_exporter": "python",
   "pygments_lexer": "ipython3",
   "version": "3.4.3"
  }
 },
 "nbformat": 4,
 "nbformat_minor": 0
}
