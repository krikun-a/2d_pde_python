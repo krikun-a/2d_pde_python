{
 "cells": [
  {
   "cell_type": "code",
   "execution_count": null,
   "metadata": {
    "collapsed": true
   },
   "outputs": [],
   "source": [
    "def check_tuple(var, typ):\n",
    "    if type(var)!=tuple and type(var)!=typ:\n",
    "        return False \n",
    "    elif type(var)==tuple:\n",
    "        if any(type(s)!=typ for s in var):\n",
    "            return False\n",
    "    return True"
   ]
  },
  {
   "cell_type": "code",
   "execution_count": 6,
   "metadata": {
    "collapsed": false
   },
   "outputs": [],
   "source": [
    "def diff_matrix_1d(grid_size, difference_order=4, periodic_boundary=False):\n",
    "    \"\"\"\n",
    "    Return a differentiation matrices associated with derivative operators up to 2nd order on the line\n",
    "    The derivative is calculated with respect to the equispaced grid\n",
    "    The differentiation matrices are sparsed.\n",
    "    \n",
    "    Parameters \n",
    "    ----------\n",
    "    grid_size : int nx\n",
    "    difference_order : int default=4\n",
    "        Controls order of the approximation of finite difference\n",
    "    peryodic_boundary: boolean, default=False\n",
    "        Sets whether periodic boundary conditions are imposed\n",
    "    \n",
    "    Returns\n",
    "    ----------\n",
    "    List of differentiation matrices of size nx X nx of rising order including identity. \n",
    "    I.e. (1, dx, d2x)\n",
    "    \n",
    "    References\n",
    "    ---------------\n",
    "    Uses sympy.calculus.finite_diff.finite_diff_weights\n",
    "    \"\"\"\n",
    "    #----------------Check input------------------ \n",
    "    if any(type(inp)!=int for inp in (grid_size, difference_order)):\n",
    "        raise ValueError(\"grid_size and difference_order must be integers\")\n",
    "    if type(periodic_boundary)!=bool:\n",
    "        raise ValueError(\"periodic_boundary must be boolean\")\n",
    "\n",
    "    if difference_order+1 > grid_size:\n",
    "        raise ValueError(\"Stencil is larger then the whole grid\")\n",
    "    \n",
    "    #-------------Body------------------    \n",
    "    \n",
    "    h0=int(difference_order/2) #This is a number of neighbours\n",
    "    stencil=[S(i) for i in range(-h0,h0+1,1)]\n",
    "    \n",
    "    d_weights = [np.array(finite_diff_weights(2, stencil, offset),dtype=float)[:,-1] for offset in range(-h0,h0+1,1)]\n",
    "    \n",
    "    return d_weights"
   ]
  },
  {
   "cell_type": "code",
   "execution_count": 7,
   "metadata": {
    "collapsed": false
   },
   "outputs": [],
   "source": [
    "dw=diff_matrix_1d(5)[3]"
   ]
  },
  {
   "cell_type": "code",
   "execution_count": 8,
   "metadata": {
    "collapsed": false
   },
   "outputs": [
    {
     "data": {
      "text/plain": [
       "array([-0.08333333,  0.33333333,  0.5       , -1.66666667,  0.91666667])"
      ]
     },
     "execution_count": 8,
     "metadata": {},
     "output_type": "execute_result"
    }
   ],
   "source": [
    "dw[2]"
   ]
  },
  {
   "cell_type": "code",
   "execution_count": 9,
   "metadata": {
    "collapsed": false
   },
   "outputs": [
    {
     "data": {
      "text/plain": [
       "'1.11.2'"
      ]
     },
     "execution_count": 9,
     "metadata": {},
     "output_type": "execute_result"
    }
   ],
   "source": [
    "np.version.version"
   ]
  },
  {
   "cell_type": "code",
   "execution_count": 30,
   "metadata": {
    "collapsed": false
   },
   "outputs": [],
   "source": [
    "t1=np.broadcast_to(dw[2],(3,5)).transpose()"
   ]
  },
  {
   "cell_type": "code",
   "execution_count": 31,
   "metadata": {
    "collapsed": false
   },
   "outputs": [
    {
     "data": {
      "text/plain": [
       "(5, 3)"
      ]
     },
     "execution_count": 31,
     "metadata": {},
     "output_type": "execute_result"
    }
   ],
   "source": [
    "t1.shape"
   ]
  },
  {
   "cell_type": "code",
   "execution_count": 53,
   "metadata": {
    "collapsed": false
   },
   "outputs": [
    {
     "data": {
      "text/plain": [
       "array([[-0.08333333, -0.08333333, -0.08333333],\n",
       "       [ 0.33333333,  0.33333333,  0.33333333],\n",
       "       [ 0.5       ,  0.5       ,  0.5       ],\n",
       "       [-1.66666667, -1.66666667, -1.66666667],\n",
       "       [ 0.91666667,  0.91666667,  0.91666667]])"
      ]
     },
     "execution_count": 53,
     "metadata": {},
     "output_type": "execute_result"
    }
   ],
   "source": [
    "t1"
   ]
  },
  {
   "cell_type": "code",
   "execution_count": 72,
   "metadata": {
    "collapsed": false
   },
   "outputs": [
    {
     "name": "stderr",
     "output_type": "stream",
     "text": [
      "/usr/local/lib/python3.4/dist-packages/numpy/core/fromnumeric.py:2699: VisibleDeprecationWarning: `rank` is deprecated; use the `ndim` attribute or function instead. To find the rank of a matrix see `numpy.linalg.matrix_rank`.\n",
      "  VisibleDeprecationWarning)\n"
     ]
    },
    {
     "data": {
      "text/plain": [
       "matrix([[-0.08333333,  0.        ,  0.        ],\n",
       "        [ 0.33333333, -0.08333333,  0.        ],\n",
       "        [ 0.5       ,  0.33333333, -0.08333333],\n",
       "        [-1.66666667,  0.5       ,  0.33333333],\n",
       "        [ 0.91666667, -1.66666667,  0.5       ],\n",
       "        [ 0.        ,  0.91666667, -1.66666667],\n",
       "        [ 0.        ,  0.        ,  0.91666667]])"
      ]
     },
     "execution_count": 72,
     "metadata": {},
     "output_type": "execute_result"
    }
   ],
   "source": [
    "scipy.sparse.spdiags(t1,range(0,-5,-1),7,3).todense()"
   ]
  },
  {
   "cell_type": "code",
   "execution_count": 195,
   "metadata": {
    "collapsed": false
   },
   "outputs": [],
   "source": [
    "def diff_matrix(grid_size, difference_order=4, periodic_boundary=False):\n",
    "    \"\"\"\n",
    "    Return a differentiation matrices associated with derivative operators up to 2nd order.\n",
    "    The derivative is calculated with respect to the equispaced multidimensional grid\n",
    "    The differentiation matrices are sparsed, obtained by Kronecker product. \n",
    "    \n",
    "    Parameters \n",
    "    ----------\n",
    "    ! All tuples must be the same lenght equal to the number of grid dimensions.\n",
    "    \n",
    "    grid_size : tuple of ints (nx,ny,...)\n",
    "    difference_order : tuple of ints (int,int,...), default=(5,5)\n",
    "        Controls order of the approximation of finite difference for every axis.\n",
    "    periodic_boundary: tuple of booleans, default=(False,False)\n",
    "        Sets whether periodic boundary conditions are imposed in given direction\n",
    "    \n",
    "    Returns\n",
    "    ----------\n",
    "    List of differentiation matrices of size (nx*ny*...)x(nx*ny*...) of rising order including identity. \n",
    "    I.e. in 2 dimensions\n",
    "??    (1, dx, dy, d2x, d2y, dxdy)\n",
    "    \n",
    "    References\n",
    "    ---------------\n",
    "    Uses sympy.calculus.finite_diff.finite_diff_weights\n",
    "    and scipy.sparse.kron\n",
    "    \"\"\"\n",
    "    #-----------Check input--------------\n",
    "    #-----------------------------------\n",
    "    def to_tuple(var):\n",
    "    if type(var)!=tuple:\n",
    "        return tuple([var]*len(grid_size))\n",
    "    else:\n",
    "        return var\n",
    "            \n",
    "    if not check_tuple(difference_order,int):\n",
    "        raise ValueError(\"difference_order must be integer or tuple of integers\")\n",
    "    if not check_tuple(periodic_boundary,bool):\n",
    "        raise ValueError(\"periodic_boundary must be integer or tuple of integers\")\n",
    " \n",
    "    (difference_order, periodic_boundary)=map(to_tuple, (difference_order, periodic_boundary))\n",
    "    \n",
    "    dims=tuple(len(inp) for inp in [grid_size,stencil_size,  periodic_boundary])\n",
    "    if any(s1!=s2 for s1, s2 in zip(dims,dims[1:])):\n",
    "        raise ValueError(\"Dimensions of grid, order and periodicity flags are not equal.\")\n",
    "\n",
    "    \n",
    "    #-------Body-----------------------\n",
    "    #-----------------------------------\n",
    "    \n",
    "    from sympy.calculus.finite_diff import finite_diff_weights\n",
    "    from sympy import S\n",
    "    \n",
    "    h0=int(difference_order/2) #This is a number of neighbours\n",
    "    stencil=[S(i) for i in range(-h0,h0+1,1)]\n",
    "    res = finite_diff_weights(2, stencil, -3)\n",
    "    res[0][-1]\n",
    "    \n",
    "    return res"
   ]
  },
  {
   "cell_type": "code",
   "execution_count": 197,
   "metadata": {
    "collapsed": false
   },
   "outputs": [
    {
     "ename": "TypeError",
     "evalue": "unsupported operand type(s) for /: 'tuple' and 'int'",
     "output_type": "error",
     "traceback": [
      "\u001b[1;31m---------------------------------------------------------------------------\u001b[0m",
      "\u001b[1;31mTypeError\u001b[0m                                 Traceback (most recent call last)",
      "\u001b[1;32m<ipython-input-197-876afd6d491d>\u001b[0m in \u001b[0;36m<module>\u001b[1;34m()\u001b[0m\n\u001b[1;32m----> 1\u001b[1;33m \u001b[0mdiff_matrix\u001b[0m\u001b[1;33m(\u001b[0m\u001b[1;33m(\u001b[0m\u001b[1;36m3\u001b[0m\u001b[1;33m,\u001b[0m\u001b[1;36m4\u001b[0m\u001b[1;33m)\u001b[0m\u001b[1;33m)\u001b[0m\u001b[1;33m\u001b[0m\u001b[0m\n\u001b[0m",
      "\u001b[1;32m<ipython-input-195-fe8155af136a>\u001b[0m in \u001b[0;36mdiff_matrix\u001b[1;34m(grid_size, difference_order, offset, periodic_boundary)\u001b[0m\n\u001b[0;32m     67\u001b[0m     \u001b[1;32mfrom\u001b[0m \u001b[0msympy\u001b[0m \u001b[1;32mimport\u001b[0m \u001b[0mS\u001b[0m\u001b[1;33m\u001b[0m\u001b[0m\n\u001b[0;32m     68\u001b[0m \u001b[1;33m\u001b[0m\u001b[0m\n\u001b[1;32m---> 69\u001b[1;33m     \u001b[0mh0\u001b[0m\u001b[1;33m=\u001b[0m\u001b[0mint\u001b[0m\u001b[1;33m(\u001b[0m\u001b[0mdifference_order\u001b[0m\u001b[1;33m/\u001b[0m\u001b[1;36m2\u001b[0m\u001b[1;33m)\u001b[0m \u001b[1;31m#This is a number of neighbours\u001b[0m\u001b[1;33m\u001b[0m\u001b[0m\n\u001b[0m\u001b[0;32m     70\u001b[0m     \u001b[0mstencil\u001b[0m\u001b[1;33m=\u001b[0m\u001b[1;33m[\u001b[0m\u001b[0mS\u001b[0m\u001b[1;33m(\u001b[0m\u001b[0mi\u001b[0m\u001b[1;33m)\u001b[0m \u001b[1;32mfor\u001b[0m \u001b[0mi\u001b[0m \u001b[1;32min\u001b[0m \u001b[0mrange\u001b[0m\u001b[1;33m(\u001b[0m\u001b[1;33m-\u001b[0m\u001b[0mh0\u001b[0m\u001b[1;33m,\u001b[0m\u001b[0mh0\u001b[0m\u001b[1;33m+\u001b[0m\u001b[1;36m1\u001b[0m\u001b[1;33m,\u001b[0m\u001b[1;36m1\u001b[0m\u001b[1;33m)\u001b[0m\u001b[1;33m]\u001b[0m\u001b[1;33m\u001b[0m\u001b[0m\n\u001b[0;32m     71\u001b[0m     \u001b[0mres\u001b[0m \u001b[1;33m=\u001b[0m \u001b[0mfinite_diff_weights\u001b[0m\u001b[1;33m(\u001b[0m\u001b[1;36m2\u001b[0m\u001b[1;33m,\u001b[0m \u001b[0mstencil\u001b[0m\u001b[1;33m,\u001b[0m \u001b[1;33m-\u001b[0m\u001b[1;36m3\u001b[0m\u001b[1;33m)\u001b[0m\u001b[1;33m\u001b[0m\u001b[0m\n",
      "\u001b[1;31mTypeError\u001b[0m: unsupported operand type(s) for /: 'tuple' and 'int'"
     ]
    }
   ],
   "source": [
    "diff_matrix((3,4))"
   ]
  },
  {
   "cell_type": "code",
   "execution_count": 64,
   "metadata": {
    "collapsed": false
   },
   "outputs": [
    {
     "data": {
      "text/plain": [
       "[-2, -1, 0, 1, 2]"
      ]
     },
     "execution_count": 64,
     "metadata": {},
     "output_type": "execute_result"
    }
   ],
   "source": [
    "stencil=[S(i) for i in range(-2,3,1)]\n",
    "stencil"
   ]
  },
  {
   "cell_type": "code",
   "execution_count": 65,
   "metadata": {
    "collapsed": false
   },
   "outputs": [
    {
     "data": {
      "text/plain": [
       "[1, 0, 0, 0, 0, 0, 0]"
      ]
     },
     "execution_count": 65,
     "metadata": {},
     "output_type": "execute_result"
    }
   ],
   "source": [
    "h0=3\n",
    "stencil=[S(i) for i in range(-h0,h0+1,1)]\n",
    "res = finite_diff_weights(2, stencil, -3)\n",
    "res[0][-1]"
   ]
  },
  {
   "cell_type": "code",
   "execution_count": 1,
   "metadata": {
    "collapsed": false
   },
   "outputs": [],
   "source": [
    "from sympy.calculus.finite_diff import finite_diff_weights\n",
    "from sympy import S\n",
    "import numpy as np"
   ]
  },
  {
   "cell_type": "code",
   "execution_count": 5,
   "metadata": {
    "collapsed": true
   },
   "outputs": [],
   "source": [
    "import scipy.sparse"
   ]
  },
  {
   "cell_type": "code",
   "execution_count": null,
   "metadata": {
    "collapsed": true
   },
   "outputs": [],
   "source": []
  }
 ],
 "metadata": {
  "kernelspec": {
   "display_name": "Python 3",
   "language": "python",
   "name": "python3"
  },
  "language_info": {
   "codemirror_mode": {
    "name": "ipython",
    "version": 3
   },
   "file_extension": ".py",
   "mimetype": "text/x-python",
   "name": "python",
   "nbconvert_exporter": "python",
   "pygments_lexer": "ipython3",
   "version": "3.4.3"
  }
 },
 "nbformat": 4,
 "nbformat_minor": 0
}
