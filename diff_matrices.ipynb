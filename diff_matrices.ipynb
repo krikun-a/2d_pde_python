{
 "cells": [
  {
   "cell_type": "code",
   "execution_count": null,
   "metadata": {
    "collapsed": true
   },
   "outputs": [],
   "source": [
    "def diff_weights(d_order, n_points, n_offset=0):\n",
    "    \"\"\"\n",
    "    Return finite difference derivative weights on the uniform grid. \n",
    "    Centered as well as with offset\n",
    "    Uses Fornberg formula\n",
    "    n=n_points-1\n",
    "    s=n/2+n_offset\n",
    "    weights= (1/h^d_order)CoefList[Series[x^s Log[x]^m,{x,1,n}]]\n",
    "    \n",
    "    Parameters\n",
    "    ----------\n",
    "    d_irder : int,\n",
    "        Order of a derivative. \n",
    "    n_points : int\n",
    "        Number of points in the stencil\n",
    "    n_offset: int/2, abs(pos)<= (n_points-1)/2, default=0\n",
    "        Position of the point where derivative is taken with respect to the center of stencil.\n",
    "    \n",
    "    Notes\n",
    "    -----\n",
    "    Can be inaccurate for large number of points.\n",
    "    \"\"\"\n",
    "    if n_points < d_order + 1:\n",
    "        raise ValueError(\"Number of points must be at least the derivative order + 1.\")\n",
    "    if abs(n_offset)>(n_points-1)/2:\n",
    "        raise ValueError(\"Position is outside the stencil\")\n",
    "        \n",
    "    from scipy import linalg\n",
    "    h0 = (Np-1)/2\n",
    "    x = arange(-h0,h0+1.0)\n",
    "    x = x[:,newaxis]\n",
    "    X = x**0.0\n",
    "    for k in range(1,Np):\n",
    "        X = hstack([X,x**k])\n",
    "    w = product(arange(1,ndiv+1),axis=0)*linalg.inv(X)[ndiv]\n",
    "return w"
   ]
  },
  {
   "cell_type": "code",
   "execution_count": 2,
   "metadata": {
    "collapsed": false
   },
   "outputs": [
    {
     "ename": "ImportError",
     "evalue": "No module named 'mpmath'",
     "output_type": "error",
     "traceback": [
      "\u001b[1;31m---------------------------------------------------------------------------\u001b[0m",
      "\u001b[1;31mImportError\u001b[0m                               Traceback (most recent call last)",
      "\u001b[1;32m<ipython-input-2-a31c8221febe>\u001b[0m in \u001b[0;36m<module>\u001b[1;34m()\u001b[0m\n\u001b[1;32m----> 1\u001b[1;33m \u001b[1;32mimport\u001b[0m \u001b[0mmpmath\u001b[0m\u001b[1;33m\u001b[0m\u001b[0m\n\u001b[0m",
      "\u001b[1;31mImportError\u001b[0m: No module named 'mpmath'"
     ]
    }
   ],
   "source": [
    "import mpmath"
   ]
  },
  {
   "cell_type": "code",
   "execution_count": 3,
   "metadata": {
    "collapsed": false
   },
   "outputs": [
    {
     "ename": "ImportError",
     "evalue": "No module named 'sympy'",
     "output_type": "error",
     "traceback": [
      "\u001b[1;31m---------------------------------------------------------------------------\u001b[0m",
      "\u001b[1;31mImportError\u001b[0m                               Traceback (most recent call last)",
      "\u001b[1;32m<ipython-input-3-ef68308ca8ec>\u001b[0m in \u001b[0;36m<module>\u001b[1;34m()\u001b[0m\n\u001b[1;32m----> 1\u001b[1;33m \u001b[1;32mfrom\u001b[0m \u001b[0msympy\u001b[0m\u001b[1;33m.\u001b[0m\u001b[0mcalculus\u001b[0m\u001b[1;33m.\u001b[0m\u001b[0mfinite_diff\u001b[0m \u001b[1;32mimport\u001b[0m \u001b[0mfinite_diff_weights\u001b[0m\u001b[1;33m\u001b[0m\u001b[0m\n\u001b[0m",
      "\u001b[1;31mImportError\u001b[0m: No module named 'sympy'"
     ]
    }
   ],
   "source": [
    "from sympy.calculus.finite_diff import finite_diff_weights"
   ]
  },
  {
   "cell_type": "code",
   "execution_count": null,
   "metadata": {
    "collapsed": true
   },
   "outputs": [],
   "source": []
  }
 ],
 "metadata": {
  "kernelspec": {
   "display_name": "Python 3",
   "language": "python",
   "name": "python3"
  },
  "language_info": {
   "codemirror_mode": {
    "name": "ipython",
    "version": 3
   },
   "file_extension": ".py",
   "mimetype": "text/x-python",
   "name": "python",
   "nbconvert_exporter": "python",
   "pygments_lexer": "ipython3",
   "version": "3.4.3"
  }
 },
 "nbformat": 4,
 "nbformat_minor": 0
}
