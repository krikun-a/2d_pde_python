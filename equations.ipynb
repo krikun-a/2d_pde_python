{
 "cells": [
  {
   "cell_type": "code",
   "execution_count": 163,
   "metadata": {
    "collapsed": true
   },
   "outputs": [],
   "source": [
    "import scipy, numpy as np, math\n",
    "from numpy import sqrt, cosh, pi, sinh, tanh, exp, cos"
   ]
  },
  {
   "cell_type": "markdown",
   "metadata": {},
   "source": [
    "Define the global lattice parameters first"
   ]
  },
  {
   "cell_type": "code",
   "execution_count": 258,
   "metadata": {
    "collapsed": true
   },
   "outputs": [],
   "source": [
    "ne=9 #number of equations (and functions)\n",
    "nd=6 #number of derivatives (including identity)\n",
    "nx=1 #gridsize in periodyic x\n",
    "ny=3 #gridsize in finite y"
   ]
  },
  {
   "cell_type": "markdown",
   "metadata": {},
   "source": [
    "Define some physical parameters"
   ]
  },
  {
   "cell_type": "code",
   "execution_count": 259,
   "metadata": {
    "collapsed": false
   },
   "outputs": [],
   "source": [
    "c1=9.9\n",
    "p0=1.2\n",
    "mu1=1.\n",
    "mu=2\n",
    "a0=0.3\n",
    "nperiods=1"
   ]
  },
  {
   "cell_type": "markdown",
   "metadata": {},
   "source": [
    "Use some random data for example"
   ]
  },
  {
   "cell_type": "code",
   "execution_count": 260,
   "metadata": {
    "collapsed": true
   },
   "outputs": [],
   "source": [
    "gf=np.random.rand(ne,7,nx,ny)\n",
    "gy=np.reshape(np.random.rand(ny),(1,ny))\n",
    "gx=np.reshape(np.random.rand(nx),(nx,1))"
   ]
  },
  {
   "cell_type": "markdown",
   "metadata": {},
   "source": [
    "Define slices for Internal, Top and Bottom layers"
   ]
  },
  {
   "cell_type": "code",
   "execution_count": 261,
   "metadata": {
    "collapsed": false
   },
   "outputs": [],
   "source": [
    "gft=np.reshape(gf[:,:,:,-1],(ne,7,nx,1))\n",
    "gfb=np.reshape(gf[:,:,:,0],(ne,7,nx,1))\n",
    "gfi=gf[:,:,:,1:-1]"
   ]
  },
  {
   "cell_type": "code",
   "execution_count": 262,
   "metadata": {
    "collapsed": false
   },
   "outputs": [],
   "source": [
    "gxi=gx\n",
    "gxt=gx\n",
    "gxb=gx\n",
    "gyi=gy[:,1:-1]"
   ]
  },
  {
   "cell_type": "markdown",
   "metadata": {},
   "source": [
    "The equations\n",
    "-------\n",
    "Here we calculate the values of the actual equations on the grid"
   ]
  },
  {
   "cell_type": "markdown",
   "metadata": {},
   "source": [
    "Calculate values of the equations on Top, Internal and Bottom layers"
   ]
  },
  {
   "cell_type": "code",
   "execution_count": 263,
   "metadata": {
    "collapsed": false,
    "scrolled": true
   },
   "outputs": [],
   "source": [
    "fileEqsT=open(\"EOMsT_py.txt\",\"r\")\n",
    "eomsT=np.zeros((ne,nx,1),dtype=float)\n",
    "pos=0\n",
    "for line in fileEqsT:\n",
    "    exec(line)\n",
    "    eomsT[pos]=eom\n",
    "    pos+=1 "
   ]
  },
  {
   "cell_type": "code",
   "execution_count": 264,
   "metadata": {
    "collapsed": false
   },
   "outputs": [],
   "source": [
    "fileEqsI=open(\"EOMsI_py.txt\",\"r\")\n",
    "eomsI=np.zeros((ne,nx,ny-2),dtype=float)\n",
    "pos=0\n",
    "for line in fileEqsI:\n",
    "    exec(line)\n",
    "    eomsI[pos]=eom\n",
    "    pos+=1 "
   ]
  },
  {
   "cell_type": "code",
   "execution_count": 265,
   "metadata": {
    "collapsed": false
   },
   "outputs": [],
   "source": [
    "fileEqsB=open(\"EOMsB_py.txt\",\"r\")\n",
    "eomsB=np.zeros((ne,nx,1),dtype=float)\n",
    "pos=0\n",
    "for line in fileEqsB:\n",
    "    exec(line)\n",
    "    eomsB[pos]=eom\n",
    "    pos+=1 "
   ]
  },
  {
   "cell_type": "code",
   "execution_count": 272,
   "metadata": {
    "collapsed": false
   },
   "outputs": [
    {
     "data": {
      "text/plain": [
       "array([[[   203.22186905]],\n",
       "\n",
       "       [[   402.92240091]],\n",
       "\n",
       "       [[  -182.27262654]],\n",
       "\n",
       "       [[  -232.63835957]],\n",
       "\n",
       "       [[  2741.98135791]],\n",
       "\n",
       "       [[   740.03914794]],\n",
       "\n",
       "       [[  6550.44276061]],\n",
       "\n",
       "       [[ 61302.7692511 ]],\n",
       "\n",
       "       [[  1175.49111108]]])"
      ]
     },
     "execution_count": 272,
     "metadata": {},
     "output_type": "execute_result"
    }
   ],
   "source": [
    "eomsI"
   ]
  },
  {
   "cell_type": "markdown",
   "metadata": {},
   "source": [
    "Collect the matrix of equation values"
   ]
  },
  {
   "cell_type": "code",
   "execution_count": 266,
   "metadata": {
    "collapsed": false
   },
   "outputs": [],
   "source": [
    "eomsM=np.concatenate((eomsB,eomsI,eomsT),axis=2)"
   ]
  },
  {
   "cell_type": "code",
   "execution_count": 267,
   "metadata": {
    "collapsed": false
   },
   "outputs": [
    {
     "data": {
      "text/plain": [
       "(9, 1, 3)"
      ]
     },
     "execution_count": 267,
     "metadata": {},
     "output_type": "execute_result"
    }
   ],
   "source": [
    "eomsM.shape"
   ]
  },
  {
   "cell_type": "markdown",
   "metadata": {},
   "source": [
    "The operator\n",
    "------------\n",
    "Here we first calculate the coefficietns in the linearized equations "
   ]
  },
  {
   "cell_type": "code",
   "execution_count": 268,
   "metadata": {
    "collapsed": false
   },
   "outputs": [],
   "source": [
    "fileCoefI=open(\"CoefsI_py.txt\",\"r\")\n",
    "coefsI=np.zeros((ne*ne*nd,nx,ny-2),dtype=float)\n",
    "pos=0\n",
    "for line in fileCoefI:\n",
    "    exec(line)\n",
    "    coefsI[pos]=coef\n",
    "    pos+=1 \n",
    "coefsI=coefsI.reshape(ne,ne*nd,nx,ny-2)"
   ]
  },
  {
   "cell_type": "code",
   "execution_count": 274,
   "metadata": {
    "collapsed": false
   },
   "outputs": [],
   "source": [
    "fileCoefT=open(\"CoefsT_py.txt\",\"r\")\n",
    "coefsT=np.zeros((ne*ne*nd,nx,1),dtype=float)\n",
    "pos=0\n",
    "for line in fileCoefT:\n",
    "    exec(line)\n",
    "    coefsT[pos]=coef\n",
    "    pos+=1 \n",
    "coefsT=coefsT.reshape(ne,ne*nd,nx,1)"
   ]
  },
  {
   "cell_type": "code",
   "execution_count": null,
   "metadata": {
    "collapsed": true
   },
   "outputs": [],
   "source": []
  },
  {
   "cell_type": "code",
   "execution_count": 270,
   "metadata": {
    "collapsed": true
   },
   "outputs": [],
   "source": [
    "fileCoefB=open(\"CoefsB_py.txt\",\"r\")\n",
    "coefsB=np.zeros((ne*ne*nd,nx,1),dtype=float)\n",
    "pos=0\n",
    "for line in fileCoefB:\n",
    "    exec(line)\n",
    "    coefsB[pos]=coef\n",
    "    pos+=1 \n",
    "coefsB=coefsB.reshape(ne,ne*nd,nx,1)"
   ]
  },
  {
   "cell_type": "code",
   "execution_count": 271,
   "metadata": {
    "collapsed": false
   },
   "outputs": [
    {
     "data": {
      "text/plain": [
       "(9, 54, 1, 1)"
      ]
     },
     "execution_count": 271,
     "metadata": {},
     "output_type": "execute_result"
    }
   ],
   "source": [
    "coefsI.shape"
   ]
  },
  {
   "cell_type": "code",
   "execution_count": 273,
   "metadata": {
    "collapsed": true
   },
   "outputs": [],
   "source": [
    "eval?"
   ]
  },
  {
   "cell_type": "code",
   "execution_count": null,
   "metadata": {
    "collapsed": true
   },
   "outputs": [],
   "source": []
  }
 ],
 "metadata": {
  "anaconda-cloud": {},
  "kernelspec": {
   "display_name": "Python 3",
   "language": "python",
   "name": "python3"
  },
  "language_info": {
   "codemirror_mode": {
    "name": "ipython",
    "version": 3
   },
   "file_extension": ".py",
   "mimetype": "text/x-python",
   "name": "python",
   "nbconvert_exporter": "python",
   "pygments_lexer": "ipython3",
   "version": "3.4.3"
  }
 },
 "nbformat": 4,
 "nbformat_minor": 1
}
