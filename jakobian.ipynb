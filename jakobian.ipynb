{
 "cells": [
  {
   "cell_type": "markdown",
   "metadata": {},
   "source": [
    "This function will read the files with Mathemaica Pythonized expressions and save them to the arrays of strings"
   ]
  },
  {
   "cell_type": "code",
   "execution_count": 1,
   "metadata": {
    "collapsed": true
   },
   "outputs": [],
   "source": [
    "import numpy as np"
   ]
  },
  {
   "cell_type": "code",
   "execution_count": 2,
   "metadata": {
    "collapsed": true
   },
   "outputs": [],
   "source": [
    "def import_expressions(file):\n",
    "    file_expr=open(file,\"r\")\n",
    "    list_expr=[line.rstrip() for line in file_expr]\n",
    "    file_expr.close()\n",
    "    return list_expr"
   ]
  },
  {
   "cell_type": "code",
   "execution_count": 16,
   "metadata": {
    "collapsed": false
   },
   "outputs": [
    {
     "data": {
      "text/plain": [
       "9"
      ]
     },
     "execution_count": 16,
     "metadata": {},
     "output_type": "execute_result"
    }
   ],
   "source": [
    "len(eomsT_expr)"
   ]
  },
  {
   "cell_type": "code",
   "execution_count": null,
   "metadata": {
    "collapsed": true
   },
   "outputs": [],
   "source": [
    "def evaluate_expressions(list_expr):\n",
    "    l=len(list_expr)\n",
    "    vals_expr=np.zeros((ne,nx,1),dtype=float)\n",
    "    for i,expr in enumerate(listStringExpr):\n",
    "        eoms[i]=eval(expr)"
   ]
  },
  {
   "cell_type": "code",
   "execution_count": 3,
   "metadata": {
    "collapsed": true
   },
   "outputs": [],
   "source": [
    "Expressions_files=(\"EOMsI_py.txt\",\"EOMsT_py.txt\",\"EOMsB_py.txt\",\"CoefsI_py.txt\",\"CoefsT_py.txt\",\"CoefsB_py.txt\")"
   ]
  },
  {
   "cell_type": "code",
   "execution_count": 4,
   "metadata": {
    "collapsed": false
   },
   "outputs": [],
   "source": [
    "class PDE_2d_problem:\n",
    " \n",
    "    def __init__(self,  files, grid_vars, phys_vars={'c1':9.9, 'p0':1.2, 'mu1':1., 'mu':2, 'a0':0.3, 'nperiods':1}):\n",
    "        # This sets the names of functions used in Mathematica to the known functions in NumPy\n",
    "        self._func_names={'sqrt':np.sqrt, 'cosh':np.cosh, 'pi':np.pi, 'sinh':np.sinh, 'tanh':np.tanh, 'exp':np.exp, 'cos':np.cos, 'sin':np.sin} \n",
    "        # Load the Pythonized Mathematica expressions for Internal, Top, Bottom equations and Internal, Top, Bottom coefficients of Jacobian\n",
    "        self._eomsI_expr=import_expressions(files[0])\n",
    "        self._eomsT_expr=import_expressions(files[1])\n",
    "        self._eomsB_expr=import_expressions(files[2])\n",
    "        self._coefsI_expr=import_expressions(files[3])\n",
    "        self._coefsT_expr=import_expressions(files[4])\n",
    "        self._coefsB_expr=import_expressions(files[5])\n",
    "        \n",
    "        # Set the internal values to the provided grid size and save physical parameters\n",
    "        self.nx, self.ny=grid_vars\n",
    "        self.ne=len(self._eomsI_expr)\n",
    "        self.phys_vars=phys_vars\n",
    "        \n",
    "        #Create grid via built in function\n",
    "        self.gy, self.gx =self.create_grid()\n",
    "        \n",
    "        #Slice the grid for Internal, Top, Bottom calculations\n",
    "        self.sliced_grid=self.slice_grid()\n",
    "          \n",
    "    def create_grid(self):\n",
    "        gy = np.reshape(np.random.rand(self.ny),(1,self.ny))\n",
    "        gx = np.reshape(np.random.rand(self.nx),(self.nx,1))\n",
    "        return(gy,gx)\n",
    "        \n",
    "    \n",
    "    def slice_gfm(self,gfm):\n",
    "        gft=np.reshape(gfm[:,:,:,-1],(self.ne,7,self.nx,1))\n",
    "        gfb=np.reshape(gfm[:,:,:,0],(self.ne,7,self.nx,1))\n",
    "        gfi=gfm[:,:,:,1:-1]\n",
    "        return(gft,gfi,gfb)\n",
    "    \n",
    "    def slice_grid(self):\n",
    "        gy=self.gy\n",
    "        gx=self.gx\n",
    "        gxi=gx\n",
    "        gxt=gx\n",
    "        gxb=gx\n",
    "        gyi=gy[:,1:-1]\n",
    "        gyt=gy[-1]\n",
    "        gyb=gy[0]\n",
    "        return({'gxb':gxb,'gxi':gxi,'gxt':gxt,'gyb':gyb,'gyi':gyi,'gyt':gyt})\n",
    "    \n",
    "    def EOMs(self,gfm):\n",
    "        # Slice the input for Internal, Top, Bottom calculations\n",
    "        (gft,gfi,gfb)=self.slice_gfm(gfm)\n",
    "        # Include all internal definitions into the local dictionary\n",
    "        locals().update(self.phys_vars)\n",
    "        locals().update(self.sliced_grid)\n",
    "        locals().update(self._func_names)\n",
    "        \n",
    "        # Evaluate the Internal, Top, Bottom expressions using internal definitions\n",
    "        eomsT=np.zeros((self.ne,self.nx,1),dtype=float)\n",
    "        for i, expr in enumerate(self._eomsT_expr):           \n",
    "            eomsT[i]=eval(expr,globals(),locals())\n",
    "        \n",
    "        eomsI=np.zeros((self.ne,self.nx,self.ny-2),dtype=float)\n",
    "        for i, expr in enumerate(self._eomsI_expr):           \n",
    "            eomsI[i]=eval(expr,globals(),locals())\n",
    "            \n",
    "        eomsB=np.zeros((self.ne,self.nx,1),dtype=float)\n",
    "        for i, expr in enumerate(self._eomsB_expr):           \n",
    "            eomsB[i]=eval(expr,globals(),locals())\n",
    "        \n",
    "        # Create the full matrix of equations\n",
    "        eomsM=np.concatenate((eomsB,eomsI,eomsT),axis=2)\n",
    "        \n",
    "        return(eomsM)\n",
    "    "
   ]
  },
  {
   "cell_type": "code",
   "execution_count": 5,
   "metadata": {
    "collapsed": false
   },
   "outputs": [],
   "source": [
    "problem=PDE_2d_problem(Expressions_files,(4,6))"
   ]
  },
  {
   "cell_type": "code",
   "execution_count": 7,
   "metadata": {
    "collapsed": false
   },
   "outputs": [
    {
     "data": {
      "text/plain": [
       "array([[[ -7.03714285e-01,  -2.06630674e+00,   5.77956536e+00,\n",
       "           8.89339301e+00,  -1.41601981e+00,   8.51661245e-01],\n",
       "        [ -5.42154474e-01,  -1.38659690e+00,  -1.63821206e-01,\n",
       "          -1.71881270e+00,  -1.11453918e+00,   1.40357014e+00],\n",
       "        [ -6.05220851e-01,  -2.07617823e+00,  -1.54581991e+00,\n",
       "          -4.28344927e+00,   1.08109946e+00,  -1.40483696e+00],\n",
       "        [ -1.64839125e-01,   6.52910212e-01,  -1.96644169e-01,\n",
       "          -9.67600597e+00,   7.44324936e-01,   4.30683570e+00]],\n",
       "\n",
       "       [[  1.85433270e-01,  -2.73714020e+00,   1.02720546e+01,\n",
       "          -5.88251400e+00,   1.91552123e-01,   4.28136247e-02],\n",
       "        [  3.30077461e-01,   1.67598894e-01,   8.68572861e-01,\n",
       "          -4.19091954e-02,   9.55117079e-01,   3.31974843e-01],\n",
       "        [  9.49393716e-01,   1.69736316e-01,  -5.92236770e-01,\n",
       "          -2.03711127e+00,   5.82342475e+00,   1.43389055e-01],\n",
       "        [  4.73586206e-01,   6.28749657e-01,   1.58440350e+00,\n",
       "          -1.28387097e+00,   1.09755120e-01,  -2.27456871e+00]],\n",
       "\n",
       "       [[  7.63522114e-01,  -1.82403193e+00,  -1.73963113e+03,\n",
       "          -8.51088004e+00,  -1.04752790e+01,   8.69223991e-01],\n",
       "        [  3.12236234e-01,  -7.50539549e+01,  -3.40512404e+04,\n",
       "          -3.43709010e+00,  -5.86184116e+01,   2.63569761e+00],\n",
       "        [  6.77150644e-01,  -7.69132772e+01,  -5.20070300e+04,\n",
       "          -3.41570109e+00,   3.92637706e+01,   8.39915005e-01],\n",
       "        [  6.51929831e-01,  -4.44746765e+00,  -2.99638284e+04,\n",
       "           5.41624220e-01,  -1.12767708e+02,   3.87058074e+00]],\n",
       "\n",
       "       [[ -5.18522706e-01,   6.40348192e+02,   1.36454236e+06,\n",
       "           2.72582864e+00,   1.68862922e+02,  -2.72216878e+00],\n",
       "        [ -9.97445969e-01,   9.45318995e+02,   2.77488553e+04,\n",
       "           1.58003929e+00,   3.54106886e+01,  -2.28124392e-01],\n",
       "        [ -6.97714542e-01,   3.98678286e+01,   1.79121036e+05,\n",
       "           1.02129474e+00,  -1.52528917e+03,  -9.47525071e+00],\n",
       "        [ -6.80398819e-01,   5.25291688e+02,   9.68211361e+04,\n",
       "           2.52447716e+01,   1.07680460e+01,   1.77062117e+00]],\n",
       "\n",
       "       [[ -1.13605493e-01,   6.20608490e+02,   5.87936524e+04,\n",
       "           1.23878237e+01,   1.05968171e+02,   7.01805623e-01],\n",
       "        [ -5.40034418e-01,   2.06319190e+01,   2.54071915e+05,\n",
       "           4.39985527e+00,   3.41353391e+01,  -1.10867843e+00],\n",
       "        [ -8.32080214e-01,   3.07702890e+01,   1.90399328e+05,\n",
       "           5.15243422e+00,   4.67987117e+03,   4.48674000e-01],\n",
       "        [ -9.97755709e-01,   6.09006793e+02,   4.52280451e+04,\n",
       "           7.86367177e+00,   8.44971775e+01,  -2.13148041e+00]],\n",
       "\n",
       "       [[ -2.36080405e-01,   3.56119874e+01,   1.79614740e+06,\n",
       "           4.59702058e-01,   1.45057255e+02,   2.07070247e-01],\n",
       "        [ -3.59775726e-01,   3.71597358e+02,   4.85728336e+05,\n",
       "           2.76622521e+00,   2.97588451e+01,   3.33771896e-01],\n",
       "        [ -5.73768087e-01,   8.85035735e+01,   1.42713677e+04,\n",
       "           2.40302707e+00,   4.98475982e+03,   3.16467695e-01],\n",
       "        [ -5.23215289e-01,   1.10552611e+02,   2.26075410e+05,\n",
       "           3.25201957e+00,   5.08276557e+01,  -4.29071065e+00]],\n",
       "\n",
       "       [[ -3.89468277e-01,   5.58030940e+02,   2.96623654e+05,\n",
       "           1.29682708e+00,   1.17949765e+02,  -6.98796735e-01],\n",
       "        [ -3.41970181e-01,   2.49949481e+02,   6.40901079e+04,\n",
       "          -2.65367643e+00,   1.04593558e+02,   1.60973325e-01],\n",
       "        [ -8.03158431e-01,   8.41739863e+01,   3.89163800e+04,\n",
       "           1.04211280e+01,   9.78086852e+03,  -3.71664212e-01],\n",
       "        [ -8.01625758e-01,   4.18410165e+01,   6.08668776e+04,\n",
       "          -6.33538850e+00,   1.06880396e+02,   1.94694829e-01]],\n",
       "\n",
       "       [[  2.42921510e-01,   3.23580368e+03,   9.13933150e+09,\n",
       "           1.18179734e+01,   9.45925009e+00,  -2.12111412e-02],\n",
       "        [  1.83507417e-01,   7.43185804e+04,   6.56996248e+06,\n",
       "          -4.82475826e+00,  -1.62835226e+01,   8.08252488e-01],\n",
       "        [  3.12265678e-02,   2.86628902e+02,   4.79660341e+06,\n",
       "          -3.84010538e+00,   4.62274436e+04,  -3.69406607e-01],\n",
       "        [  5.52280764e-01,   1.77120375e+03,   7.25938075e+07,\n",
       "          -7.64268332e+00,  -2.27398340e+02,   3.76057401e+00]],\n",
       "\n",
       "       [[  2.35143280e-01,   2.14357477e+01,   1.10101091e+06,\n",
       "          -2.21242427e+01,   3.88448071e+00,  -4.51178566e-03],\n",
       "        [  4.13742532e-01,   4.45321906e+02,   9.30947553e+04,\n",
       "           8.20985979e+00,   4.03578702e+00,   3.00221353e-01],\n",
       "        [  3.03425044e-01,   5.81525144e+01,   3.23599946e+04,\n",
       "           5.42713773e+01,   3.88362392e+03,   1.76489601e-01],\n",
       "        [  2.43249632e-01,   1.13295423e+02,   1.94253530e+05,\n",
       "          -4.69685121e+00,   2.02600264e+02,   1.38252015e+01]]])"
      ]
     },
     "execution_count": 7,
     "metadata": {},
     "output_type": "execute_result"
    }
   ],
   "source": [
    "problem.EOMs(np.random.rand(9,7,4,6))"
   ]
  },
  {
   "cell_type": "code",
   "execution_count": null,
   "metadata": {
    "collapsed": true
   },
   "outputs": [],
   "source": []
  },
  {
   "cell_type": "code",
   "execution_count": 40,
   "metadata": {
    "collapsed": false
   },
   "outputs": [
    {
     "data": {
      "text/plain": [
       "6"
      ]
     },
     "execution_count": 40,
     "metadata": {},
     "output_type": "execute_result"
    }
   ],
   "source": [
    "b"
   ]
  },
  {
   "cell_type": "code",
   "execution_count": null,
   "metadata": {
    "collapsed": true
   },
   "outputs": [],
   "source": []
  }
 ],
 "metadata": {
  "kernelspec": {
   "display_name": "Python 3",
   "language": "python",
   "name": "python3"
  },
  "language_info": {
   "codemirror_mode": {
    "name": "ipython",
    "version": 3
   },
   "file_extension": ".py",
   "mimetype": "text/x-python",
   "name": "python",
   "nbconvert_exporter": "python",
   "pygments_lexer": "ipython3",
   "version": "3.4.3"
  }
 },
 "nbformat": 4,
 "nbformat_minor": 0
}
