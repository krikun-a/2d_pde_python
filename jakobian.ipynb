{
 "cells": [
  {
   "cell_type": "markdown",
   "metadata": {},
   "source": [
    "This function will read the files with Mathemaica Pythonized expressions and save them to the arrays of strings"
   ]
  },
  {
   "cell_type": "code",
   "execution_count": 8,
   "metadata": {
    "collapsed": true
   },
   "outputs": [],
   "source": [
    "def import_expressions(file):\n",
    "    file_expr=open(file,\"r\")\n",
    "    list_expr=[line.rstrip() for line in file_expr]\n",
    "    file_expr.close()\n",
    "    return list_expr"
   ]
  },
  {
   "cell_type": "code",
   "execution_count": 9,
   "metadata": {
    "collapsed": false
   },
   "outputs": [],
   "source": [
    "eomsT_expr=import_expressions(\"EOMsT_py.txt\")\n",
    "\n",
    "eomsT_expr[1];"
   ]
  },
  {
   "cell_type": "code",
   "execution_count": 16,
   "metadata": {
    "collapsed": false
   },
   "outputs": [
    {
     "data": {
      "text/plain": [
       "9"
      ]
     },
     "execution_count": 16,
     "metadata": {},
     "output_type": "execute_result"
    }
   ],
   "source": [
    "len(eomsT_expr)"
   ]
  },
  {
   "cell_type": "code",
   "execution_count": null,
   "metadata": {
    "collapsed": true
   },
   "outputs": [],
   "source": [
    "def evaluate_expressions(list_expr):\n",
    "    l=len(list_expr)\n",
    "    vals_expr=np.zeros((ne,nx,1),dtype=float)\n",
    "    for i,expr in enumerate(listStringExpr):\n",
    "        eoms[i]=eval(expr)"
   ]
  },
  {
   "cell_type": "code",
   "execution_count": 75,
   "metadata": {
    "collapsed": true
   },
   "outputs": [],
   "source": [
    "Expressions_files=(\"EOMsI_py.txt\",\"EOMsT_py.txt\",\"EOMsB_py.txt\",\"CoefsI_py.txt\",\"CoefsT_py.txt\",\"CoefsB_py.txt\")"
   ]
  },
  {
   "cell_type": "code",
   "execution_count": 83,
   "metadata": {
    "collapsed": true
   },
   "outputs": [],
   "source": [
    "eval?"
   ]
  },
  {
   "cell_type": "code",
   "execution_count": 85,
   "metadata": {
    "collapsed": false
   },
   "outputs": [],
   "source": [
    "globals();"
   ]
  },
  {
   "cell_type": "code",
   "execution_count": 164,
   "metadata": {
    "collapsed": false
   },
   "outputs": [],
   "source": [
    "class PDE_2d_problem:\n",
    "    import numpy as np\n",
    "    from numpy import sqrt, cosh, pi, sinh, tanh, exp, cos\n",
    "    \n",
    "    def __init__(self,  files, grid_vars, phys_vars={'c1':9.9, 'p0':1.2, 'mu1':1., 'mu':2, 'a0':0.3, 'nperiods':1}):\n",
    "        from numpy import sqrt, cosh, pi, sinh, tanh, exp, cos\n",
    "        self._eomsI_expr=import_expressions(files[0])\n",
    "        self._eomsT_expr=import_expressions(files[1])\n",
    "        self._eomsB_expr=import_expressions(files[2])\n",
    "        self._coefsI_expr=import_expressions(files[3])\n",
    "        self._coefsT_expr=import_expressions(files[4])\n",
    "        self._coefsB_expr=import_expressions(files[5])\n",
    "        self.nx, self.ny=grid_vars\n",
    "        self.phys_vars=phys_vars\n",
    "        self.ne=len(self._eomsI_expr)\n",
    "        \n",
    "        self.gy=np.reshape(np.random.rand(self.ny),(1,self.ny))\n",
    "        self.gx=np.reshape(np.random.rand(self.nx),(self.nx,1))\n",
    "        \n",
    "    def EOMs(self,gfm):\n",
    "        gft=np.reshape(gfm[:,:,:,-1],(self.ne,7,self.nx,1))\n",
    "        gfb=np.reshape(gfm[:,:,:,0],(self.ne,7,self.nx,1))\n",
    "        gfi=gfm[:,:,:,1:-1]\n",
    "        gy=self.gy\n",
    "        gx=self.gx\n",
    "        gxi=gx\n",
    "        gxt=gx\n",
    "        gxb=gx\n",
    "        gyi=gy[:,1:-1]\n",
    "        \n",
    "        r=eval(self._eomsI_expr[1],globals().update(locals()),self.phys_vars)\n",
    "        return(r)\n",
    "    "
   ]
  },
  {
   "cell_type": "code",
   "execution_count": 165,
   "metadata": {
    "collapsed": false
   },
   "outputs": [],
   "source": [
    "problem=PDE_2d_problem(Expressions_files,(4,5))"
   ]
  },
  {
   "cell_type": "code",
   "execution_count": 168,
   "metadata": {
    "collapsed": false
   },
   "outputs": [
    {
     "data": {
      "text/plain": [
       "array([[ 0.32716626, -1.69250076, -0.51180528],\n",
       "       [ 1.47639424,  0.10634241, -0.73239093],\n",
       "       [ 3.66780251,  1.74113581, -8.00079951],\n",
       "       [ 1.99135571,  1.45794345, -2.32932854]])"
      ]
     },
     "execution_count": 168,
     "metadata": {},
     "output_type": "execute_result"
    }
   ],
   "source": [
    "problem.EOMs(np.random.rand(9,7,4,5))"
   ]
  },
  {
   "cell_type": "code",
   "execution_count": 39,
   "metadata": {
    "collapsed": true
   },
   "outputs": [],
   "source": [
    "a,b=4,6"
   ]
  },
  {
   "cell_type": "code",
   "execution_count": 40,
   "metadata": {
    "collapsed": false
   },
   "outputs": [
    {
     "data": {
      "text/plain": [
       "6"
      ]
     },
     "execution_count": 40,
     "metadata": {},
     "output_type": "execute_result"
    }
   ],
   "source": [
    "b"
   ]
  },
  {
   "cell_type": "code",
   "execution_count": null,
   "metadata": {
    "collapsed": true
   },
   "outputs": [],
   "source": []
  }
 ],
 "metadata": {
  "kernelspec": {
   "display_name": "Python 3",
   "language": "python",
   "name": "python3"
  },
  "language_info": {
   "codemirror_mode": {
    "name": "ipython",
    "version": 3
   },
   "file_extension": ".py",
   "mimetype": "text/x-python",
   "name": "python",
   "nbconvert_exporter": "python",
   "pygments_lexer": "ipython3",
   "version": "3.4.3"
  }
 },
 "nbformat": 4,
 "nbformat_minor": 0
}
