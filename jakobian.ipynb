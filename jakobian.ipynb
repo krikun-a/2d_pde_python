{
 "cells": [
  {
   "cell_type": "markdown",
   "metadata": {},
   "source": [
    "This function will read the files with Mathemaica Pythonized expressions and save them to the arrays of strings"
   ]
  },
  {
   "cell_type": "code",
   "execution_count": 13,
   "metadata": {
    "collapsed": true
   },
   "outputs": [],
   "source": [
    "import numpy as np"
   ]
  },
  {
   "cell_type": "code",
   "execution_count": 14,
   "metadata": {
    "collapsed": true
   },
   "outputs": [],
   "source": [
    "def import_expressions(file):\n",
    "    file_expr=open(file,\"r\")\n",
    "    list_expr=[line.rstrip() for line in file_expr]\n",
    "    file_expr.close()\n",
    "    return list_expr"
   ]
  },
  {
   "cell_type": "code",
   "execution_count": 26,
   "metadata": {
    "collapsed": true
   },
   "outputs": [],
   "source": [
    "files_EOMs=(\"EOMsI_py.txt\",\"EOMsT_py.txt\",\"EOMsB_py.txt\")\n",
    "files_Coefs=(\"CoefsI_py.txt\",\"CoefsT_py.txt\",\"CoefsB_py.txt\")"
   ]
  },
  {
   "cell_type": "code",
   "execution_count": 33,
   "metadata": {
    "collapsed": true
   },
   "outputs": [],
   "source": [
    "class Mathematica_importer:\n",
    "    def __init__(self, files_EOMs, files_Coefs):\n",
    "        self._func_names={'sqrt':np.sqrt, 'cosh':np.cosh, 'pi':np.pi, 'sinh':np.sinh, 'tanh':np.tanh, 'exp':np.exp, 'cos':np.cos, 'sin':np.sin} \n",
    "        self._sets_of_eoms=[self.import_expressions(file) for file in files_EOMs]\n",
    "        self._sets_of_coefs=[self.import_expressions(file) for file in files_Coefs]\n",
    "    \n",
    "    def import_expressions(self,file):\n",
    "        file_expr=open(file,\"r\")\n",
    "        list_expr=[line.rstrip() for line in file_expr]\n",
    "        file_expr.close()\n",
    "        return list_expr\n",
    "    \n",
    "    def exprs_eoms(self):\n",
    "        return self._sets_of_eoms\n",
    "    \n",
    "    def exprs_coefs(self):\n",
    "        return self._sets_of_coefs\n",
    "    \n",
    "    def renaming_rules(self):\n",
    "        return self._func_names"
   ]
  },
  {
   "cell_type": "code",
   "execution_count": 34,
   "metadata": {
    "collapsed": true
   },
   "outputs": [],
   "source": [
    "math_import=Mathematica_importer(files_EOMs, files_Coefs)"
   ]
  },
  {
   "cell_type": "code",
   "execution_count": 36,
   "metadata": {
    "collapsed": false
   },
   "outputs": [],
   "source": [
    "class PDE_2d_problem:\n",
    " \n",
    "    def __init__(self,  importer, grid_vars, phys_vars):\n",
    "        # This sets the names of functions used in Mathematica to the known functions in NumPy\n",
    "        self._func_names=importer.renaming_rules()# Load the Pythonized Mathematica expressions for Internal, Top, Bottom equations and Internal, Top, Bottom coefficients of Jacobian\n",
    "        self._eomsI_expr, self._eomsT_expr,  self._eomsB_expr = importer.exprs_eoms()\n",
    "        self._coefsI_expr, self._coefsT_expr, self._coefsB_expr= importer.exprs_coefs()\n",
    "        \n",
    "        self.ne=len(self._eomsI_expr)\n",
    "        \n",
    "        # Set the internal values to the provided grid size and save physical parameters\n",
    "        self.nx, self.ny=grid_vars\n",
    "        self.phys_vars=phys_vars\n",
    "        \n",
    "        #Create grid via built in function\n",
    "        self.gy, self.gx =self.create_grid()\n",
    "        \n",
    "        #Slice the grid for Internal, Top, Bottom calculations\n",
    "        self.sliced_grid=self.slice_grid()\n",
    "          \n",
    "    def create_grid(self):\n",
    "        gy = np.reshape(np.random.rand(self.ny),(1,self.ny))\n",
    "        gx = np.reshape(np.random.rand(self.nx),(self.nx,1))\n",
    "        return(gy,gx)\n",
    "        \n",
    "    \n",
    "    def slice_gfm(self,gfm):\n",
    "        ndif=7\n",
    "        gft=np.reshape(gfm[:,:,:,-1],(self.ne,ndif,self.nx,1))\n",
    "        gfb=np.reshape(gfm[:,:,:,0],(self.ne,ndif,self.nx,1))\n",
    "        gfi=gfm[:,:,:,1:-1]\n",
    "        return(gft,gfi,gfb)\n",
    "    \n",
    "    def slice_grid(self):\n",
    "        gy=self.gy\n",
    "        gx=self.gx\n",
    "        gxi=gx\n",
    "        gxt=gx\n",
    "        gxb=gx\n",
    "        gyi=gy[:,1:-1]\n",
    "        gyt=gy[-1]\n",
    "        gyb=gy[0]\n",
    "        return({'gxb':gxb,'gxi':gxi,'gxt':gxt,'gyb':gyb,'gyi':gyi,'gyt':gyt})\n",
    "    \n",
    "    def EOMs(self,gfm):\n",
    "        # Slice the input for Internal, Top, Bottom calculations\n",
    "        (gft,gfi,gfb)=self.slice_gfm(gfm)\n",
    "        # Include all internal definitions into the local dictionary\n",
    "        locals().update(self.phys_vars)\n",
    "        locals().update(self.sliced_grid)\n",
    "        locals().update(self._func_names)\n",
    "        \n",
    "        # Evaluate the Internal, Top, Bottom expressions using internal definitions\n",
    "        eomsT=np.zeros((self.ne,self.nx,1),dtype=float)\n",
    "        for i, expr in enumerate(self._eomsT_expr):           \n",
    "            eomsT[i]=eval(expr,globals(),locals())\n",
    "        \n",
    "        eomsI=np.zeros((self.ne,self.nx,self.ny-2),dtype=float)\n",
    "        for i, expr in enumerate(self._eomsI_expr):           \n",
    "            eomsI[i]=eval(expr,globals(),locals())\n",
    "            \n",
    "        eomsB=np.zeros((self.ne,self.nx,1),dtype=float)\n",
    "        for i, expr in enumerate(self._eomsB_expr):           \n",
    "            eomsB[i]=eval(expr,globals(),locals())\n",
    "        \n",
    "        # Create the full matrix of equations\n",
    "        eomsM=np.concatenate((eomsB,eomsI,eomsT),axis=2)\n",
    "        \n",
    "        return(eomsM)\n",
    "    "
   ]
  },
  {
   "cell_type": "code",
   "execution_count": 37,
   "metadata": {
    "collapsed": false
   },
   "outputs": [
    {
     "ename": "TypeError",
     "evalue": "__init__() missing 1 required positional argument: 'phys_vars'",
     "output_type": "error",
     "traceback": [
      "\u001b[1;31m---------------------------------------------------------------------------\u001b[0m",
      "\u001b[1;31mTypeError\u001b[0m                                 Traceback (most recent call last)",
      "\u001b[1;32m<ipython-input-37-05753368e260>\u001b[0m in \u001b[0;36m<module>\u001b[1;34m()\u001b[0m\n\u001b[1;32m----> 1\u001b[1;33m \u001b[0mproblem\u001b[0m\u001b[1;33m=\u001b[0m\u001b[0mPDE_2d_problem\u001b[0m\u001b[1;33m(\u001b[0m\u001b[0mmath_import\u001b[0m\u001b[1;33m,\u001b[0m\u001b[1;33m(\u001b[0m\u001b[1;36m100\u001b[0m\u001b[1;33m,\u001b[0m\u001b[1;36m100\u001b[0m\u001b[1;33m)\u001b[0m\u001b[1;33m)\u001b[0m\u001b[1;33m\u001b[0m\u001b[0m\n\u001b[0m",
      "\u001b[1;31mTypeError\u001b[0m: __init__() missing 1 required positional argument: 'phys_vars'"
     ]
    }
   ],
   "source": [
    "problem=PDE_2d_problem(math_import,(100,100), some_ph)"
   ]
  },
  {
   "cell_type": "code",
   "execution_count": 39,
   "metadata": {
    "collapsed": false
   },
   "outputs": [
    {
     "name": "stdout",
     "output_type": "stream",
     "text": [
      "10 loops, best of 3: 50 ms per loop\n"
     ]
    }
   ],
   "source": [
    "%%timeit\n",
    "some_phys_vars={'c1':9.9, 'p0':1.2, 'mu1':1., 'mu':2, 'a0':0.3, 'nperiods':1}\n",
    "some_lattice=(10,10)\n",
    "some_gfm=np.random.rand(9,7,some_lattice[0],some_lattice[1])\n",
    "problem=PDE_2d_problem(math_import,some_lattice,some_phys_vars)\n",
    "problem.EOMs(some_gfm);"
   ]
  },
  {
   "cell_type": "code",
   "execution_count": null,
   "metadata": {
    "collapsed": true
   },
   "outputs": [],
   "source": [
    "import"
   ]
  },
  {
   "cell_type": "code",
   "execution_count": 40,
   "metadata": {
    "collapsed": false
   },
   "outputs": [
    {
     "data": {
      "text/plain": [
       "6"
      ]
     },
     "execution_count": 40,
     "metadata": {},
     "output_type": "execute_result"
    }
   ],
   "source": [
    "b"
   ]
  },
  {
   "cell_type": "code",
   "execution_count": null,
   "metadata": {
    "collapsed": true
   },
   "outputs": [],
   "source": []
  }
 ],
 "metadata": {
  "kernelspec": {
   "display_name": "Python 3",
   "language": "python",
   "name": "python3"
  },
  "language_info": {
   "codemirror_mode": {
    "name": "ipython",
    "version": 3
   },
   "file_extension": ".py",
   "mimetype": "text/x-python",
   "name": "python",
   "nbconvert_exporter": "python",
   "pygments_lexer": "ipython3",
   "version": "3.4.3"
  }
 },
 "nbformat": 4,
 "nbformat_minor": 0
}
